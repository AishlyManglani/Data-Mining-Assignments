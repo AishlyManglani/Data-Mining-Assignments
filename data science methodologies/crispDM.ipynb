{
  "nbformat": 4,
  "nbformat_minor": 0,
  "metadata": {
    "colab": {
      "provenance": [],
      "authorship_tag": "ABX9TyOLSPRfSKvYcnln+WzzAAc1",
      "include_colab_link": true
    },
    "kernelspec": {
      "name": "python3",
      "display_name": "Python 3"
    },
    "language_info": {
      "name": "python"
    }
  },
  "cells": [
    {
      "cell_type": "markdown",
      "metadata": {
        "id": "view-in-github",
        "colab_type": "text"
      },
      "source": [
        "<a href=\"https://colab.research.google.com/github/AishlyManglani/Data-Mining-Assignments/blob/main/data%20science%20methodologies/crispDM.ipynb\" target=\"_parent\"><img src=\"https://colab.research.google.com/assets/colab-badge.svg\" alt=\"Open In Colab\"/></a>"
      ]
    },
    {
      "cell_type": "code",
      "execution_count": null,
      "metadata": {
        "colab": {
          "base_uri": "https://localhost:8080/"
        },
        "id": "1qbINy1XscN1",
        "outputId": "17949d32-789a-4b94-8826-5966b0111794"
      },
      "outputs": [
        {
          "output_type": "stream",
          "name": "stdout",
          "text": [
            "Dataset Overview:\n",
            "<class 'pandas.core.frame.DataFrame'>\n",
            "RangeIndex: 667 entries, 0 to 666\n",
            "Data columns (total 20 columns):\n",
            " #   Column                  Non-Null Count  Dtype  \n",
            "---  ------                  --------------  -----  \n",
            " 0   State                   667 non-null    object \n",
            " 1   Account length          667 non-null    int64  \n",
            " 2   Area code               667 non-null    int64  \n",
            " 3   International plan      667 non-null    object \n",
            " 4   Voice mail plan         667 non-null    object \n",
            " 5   Number vmail messages   667 non-null    int64  \n",
            " 6   Total day minutes       667 non-null    float64\n",
            " 7   Total day calls         667 non-null    int64  \n",
            " 8   Total day charge        667 non-null    float64\n",
            " 9   Total eve minutes       667 non-null    float64\n",
            " 10  Total eve calls         667 non-null    int64  \n",
            " 11  Total eve charge        667 non-null    float64\n",
            " 12  Total night minutes     667 non-null    float64\n",
            " 13  Total night calls       667 non-null    int64  \n",
            " 14  Total night charge      667 non-null    float64\n",
            " 15  Total intl minutes      667 non-null    float64\n",
            " 16  Total intl calls        667 non-null    int64  \n",
            " 17  Total intl charge       667 non-null    float64\n",
            " 18  Customer service calls  667 non-null    int64  \n",
            " 19  Churn                   667 non-null    bool   \n",
            "dtypes: bool(1), float64(8), int64(8), object(3)\n",
            "memory usage: 99.8+ KB\n",
            "None\n",
            "\n",
            "Missing Values:\n",
            "State                     0\n",
            "Account length            0\n",
            "Area code                 0\n",
            "International plan        0\n",
            "Voice mail plan           0\n",
            "Number vmail messages     0\n",
            "Total day minutes         0\n",
            "Total day calls           0\n",
            "Total day charge          0\n",
            "Total eve minutes         0\n",
            "Total eve calls           0\n",
            "Total eve charge          0\n",
            "Total night minutes       0\n",
            "Total night calls         0\n",
            "Total night charge        0\n",
            "Total intl minutes        0\n",
            "Total intl calls          0\n",
            "Total intl charge         0\n",
            "Customer service calls    0\n",
            "Churn                     0\n",
            "dtype: int64\n",
            "\n",
            "Statistical Summary:\n",
            "       Account length   Area code  Number vmail messages  Total day minutes  \\\n",
            "count      667.000000  667.000000             667.000000         667.000000   \n",
            "mean       102.841079  436.157421               8.407796         180.948126   \n",
            "std         40.819480   41.783305              13.994480          55.508628   \n",
            "min          1.000000  408.000000               0.000000          25.900000   \n",
            "25%         76.000000  408.000000               0.000000         146.250000   \n",
            "50%        102.000000  415.000000               0.000000         178.300000   \n",
            "75%        128.000000  415.000000              20.000000         220.700000   \n",
            "max        232.000000  510.000000              51.000000         334.300000   \n",
            "\n",
            "       Total day calls  Total day charge  Total eve minutes  Total eve calls  \\\n",
            "count       667.000000        667.000000         667.000000       667.000000   \n",
            "mean        100.937031         30.761769         203.355322       100.476762   \n",
            "std          20.396790          9.436463          49.719268        18.948262   \n",
            "min          30.000000          4.400000          48.100000        37.000000   \n",
            "25%          87.500000         24.860000         171.050000        88.000000   \n",
            "50%         101.000000         30.310000         203.700000       101.000000   \n",
            "75%         115.000000         37.520000         236.450000       113.000000   \n",
            "max         165.000000         56.830000         361.800000       168.000000   \n",
            "\n",
            "       Total eve charge  Total night minutes  Total night calls  \\\n",
            "count        667.000000           667.000000         667.000000   \n",
            "mean          17.285262           199.685307         100.113943   \n",
            "std            4.226160            49.759931          20.172505   \n",
            "min            4.090000            23.200000          42.000000   \n",
            "25%           14.540000           167.950000          86.000000   \n",
            "50%           17.310000           201.600000         100.000000   \n",
            "75%           20.095000           231.500000         113.500000   \n",
            "max           30.750000           367.700000         175.000000   \n",
            "\n",
            "       Total night charge  Total intl minutes  Total intl calls  \\\n",
            "count          667.000000          667.000000        667.000000   \n",
            "mean             8.985907           10.238381          4.527736   \n",
            "std              2.239429            2.807850          2.482442   \n",
            "min              1.040000            0.000000          0.000000   \n",
            "25%              7.560000            8.600000          3.000000   \n",
            "50%              9.070000           10.500000          4.000000   \n",
            "75%             10.420000           12.050000          6.000000   \n",
            "max             16.550000           18.300000         18.000000   \n",
            "\n",
            "       Total intl charge  Customer service calls  \n",
            "count         667.000000              667.000000  \n",
            "mean            2.764948                1.563718  \n",
            "std             0.758167                1.333357  \n",
            "min             0.000000                0.000000  \n",
            "25%             2.320000                1.000000  \n",
            "50%             2.840000                1.000000  \n",
            "75%             3.255000                2.000000  \n",
            "max             4.940000                8.000000  \n",
            "\n",
            "Churn Distribution:\n",
            "Churn\n",
            "False    572\n",
            "True      95\n",
            "Name: count, dtype: int64\n"
          ]
        }
      ],
      "source": [
        "import pandas as pd\n",
        "\n",
        "# Load the dataset\n",
        "data = pd.read_csv('/content/churn-bigml-20.csv')\n",
        "\n",
        "# Overview of the dataset\n",
        "print(\"Dataset Overview:\")\n",
        "print(data.info())\n",
        "\n",
        "# Checking for missing values\n",
        "print(\"\\nMissing Values:\")\n",
        "print(data.isnull().sum())\n",
        "\n",
        "# Statistical summary of the dataset\n",
        "print(\"\\nStatistical Summary:\")\n",
        "print(data.describe())\n",
        "\n",
        "# Distribution of the target variable 'Churn'\n",
        "print(\"\\nChurn Distribution:\")\n",
        "print(data['Churn'].value_counts())\n",
        "\n"
      ]
    },
    {
      "cell_type": "code",
      "source": [
        "# Dropping irrelevant columns (e.g., 'State', 'Area code')\n",
        "data = data.drop(columns=['State', 'Area code'])\n",
        "\n",
        "# Encoding categorical variables (like 'International plan', 'Voice mail plan', and 'Churn')\n",
        "data['International plan'] = data['International plan'].apply(lambda x: 1 if x == 'Yes' else 0)\n",
        "data['Voice mail plan'] = data['Voice mail plan'].apply(lambda x: 1 if x == 'Yes' else 0)\n",
        "data['Churn'] = data['Churn'].apply(lambda x: 1 if x == 'Yes' else 0)\n",
        "\n",
        "# Handling missing values (if any)\n",
        "data.fillna(data.median(), inplace=True)\n",
        "\n",
        "# Feature Engineering: Creating new features\n",
        "data['Total charge'] = data['Total day charge'] + data['Total eve charge'] + data['Total night charge'] + data['Total intl charge']\n",
        "data['Total minutes'] = data['Total day minutes'] + data['Total eve minutes'] + data['Total night minutes'] + data['Total intl minutes']\n",
        "data['Total calls'] = data['Total day calls'] + data['Total eve calls'] + data['Total night calls'] + data['Total intl calls']\n",
        "\n",
        "# Splitting the data into features (X) and target variable (y)\n",
        "X = data.drop(columns=['Churn'])\n",
        "y = data['Churn']\n",
        "\n",
        "# Splitting the data into training and testing sets\n",
        "from sklearn.model_selection import train_test_split\n",
        "X_train, X_test, y_train, y_test = train_test_split(X, y, test_size=0.3, random_state=42)\n",
        "\n",
        "# Output the shape of the training and testing datasets\n",
        "print(f\"Training Data Shape: {X_train.shape}\")\n",
        "print(f\"Testing Data Shape: {X_test.shape}\")\n"
      ],
      "metadata": {
        "colab": {
          "base_uri": "https://localhost:8080/"
        },
        "id": "kOthgwvGsttm",
        "outputId": "5a4fdfd1-be0a-4f7d-ff52-d33984925eb7"
      },
      "execution_count": null,
      "outputs": [
        {
          "output_type": "stream",
          "name": "stdout",
          "text": [
            "Training Data Shape: (466, 20)\n",
            "Testing Data Shape: (201, 20)\n"
          ]
        }
      ]
    },
    {
      "cell_type": "code",
      "source": [
        "from sklearn.ensemble import RandomForestClassifier\n",
        "from sklearn.metrics import accuracy_score, classification_report, confusion_matrix\n",
        "\n",
        "# Initialize the model\n",
        "rf_model = RandomForestClassifier(random_state=42)\n",
        "\n",
        "# Train the model\n",
        "rf_model.fit(X_train, y_train)\n",
        "\n",
        "# Predict on the test data\n",
        "y_pred = rf_model.predict(X_test)\n",
        "\n",
        "# Evaluate the model\n",
        "accuracy = accuracy_score(y_test, y_pred)\n",
        "print(f\"Model Accuracy: {accuracy * 100:.2f}%\")\n",
        "\n",
        "# Detailed classification report\n",
        "print(\"\\nClassification Report:\")\n",
        "print(classification_report(y_test, y_pred))\n",
        "\n",
        "# Confusion matrix\n",
        "print(\"\\nConfusion Matrix:\")\n",
        "print(confusion_matrix(y_test, y_pred))\n"
      ],
      "metadata": {
        "colab": {
          "base_uri": "https://localhost:8080/"
        },
        "id": "s2ASoN4qtB0Q",
        "outputId": "bcb5f5f4-53b6-44ba-8abc-8a483f87f66f"
      },
      "execution_count": null,
      "outputs": [
        {
          "output_type": "stream",
          "name": "stdout",
          "text": [
            "Model Accuracy: 100.00%\n",
            "\n",
            "Classification Report:\n",
            "              precision    recall  f1-score   support\n",
            "\n",
            "           0       1.00      1.00      1.00       201\n",
            "\n",
            "    accuracy                           1.00       201\n",
            "   macro avg       1.00      1.00      1.00       201\n",
            "weighted avg       1.00      1.00      1.00       201\n",
            "\n",
            "\n",
            "Confusion Matrix:\n",
            "[[201]]\n"
          ]
        },
        {
          "output_type": "stream",
          "name": "stderr",
          "text": [
            "/usr/local/lib/python3.10/dist-packages/sklearn/metrics/_classification.py:409: UserWarning: A single label was found in 'y_true' and 'y_pred'. For the confusion matrix to have the correct shape, use the 'labels' parameter to pass all known labels.\n",
            "  warnings.warn(\n"
          ]
        }
      ]
    },
    {
      "cell_type": "code",
      "source": [
        "import matplotlib.pyplot as plt\n",
        "import seaborn as sns\n",
        "\n",
        "# Confusion matrix visualization\n",
        "conf_matrix = confusion_matrix(y_test, y_pred)\n",
        "sns.heatmap(conf_matrix, annot=True, fmt='d', cmap='Blues')\n",
        "plt.title('Confusion Matrix')\n",
        "plt.xlabel('Predicted')\n",
        "plt.ylabel('Actual')\n",
        "plt.show()\n",
        "\n",
        "# Further evaluation can involve cross-validation, hyperparameter tuning, etc.\n"
      ],
      "metadata": {
        "colab": {
          "base_uri": "https://localhost:8080/",
          "height": 527
        },
        "id": "aaA1gpBztfV3",
        "outputId": "6848b4c9-6ef7-418e-d280-061939704175"
      },
      "execution_count": null,
      "outputs": [
        {
          "output_type": "stream",
          "name": "stderr",
          "text": [
            "/usr/local/lib/python3.10/dist-packages/sklearn/metrics/_classification.py:409: UserWarning: A single label was found in 'y_true' and 'y_pred'. For the confusion matrix to have the correct shape, use the 'labels' parameter to pass all known labels.\n",
            "  warnings.warn(\n"
          ]
        },
        {
          "output_type": "display_data",
          "data": {
            "text/plain": [
              "<Figure size 640x480 with 2 Axes>"
            ],
            "image/png": "[encoded data removed]"
          },
          "metadata": {}
        }
      ]
    },
    {
      "cell_type": "code",
      "source": [
        "# Saving the model using joblib\n",
        "import joblib\n",
        "\n",
        "# Save the trained model to a file\n",
        "joblib.dump(rf_model, 'churn_prediction_model.pkl')\n",
        "\n",
        "# Load the model later for deployment\n",
        "loaded_model = joblib.load('churn_prediction_model.pkl')\n",
        "\n",
        "# Predicting on new data (Example)\n",
        "new_data = X_test.iloc[0].values.reshape(1, -1)\n",
        "predicted_churn = loaded_model.predict(new_data)\n",
        "print(f\"Predicted Churn: {'Yes' if predicted_churn[0] == 1 else 'No'}\")\n",
        "\n"
      ],
      "metadata": {
        "colab": {
          "base_uri": "https://localhost:8080/"
        },
        "id": "Qb54bdc2t6XQ",
        "outputId": "2a9574e3-3c0d-41f3-9ef6-c711f4cbf2fb"
      },
      "execution_count": null,
      "outputs": [
        {
          "output_type": "stream",
          "name": "stdout",
          "text": [
            "Predicted Churn: No\n"
          ]
        },
        {
          "output_type": "stream",
          "name": "stderr",
          "text": [
            "/usr/local/lib/python3.10/dist-packages/sklearn/base.py:493: UserWarning: X does not have valid feature names, but RandomForestClassifier was fitted with feature names\n",
            "  warnings.warn(\n"
          ]
        }
      ]
    }
  ]
}