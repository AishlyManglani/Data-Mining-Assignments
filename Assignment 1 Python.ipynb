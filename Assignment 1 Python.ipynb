{
  "nbformat": 4,
  "nbformat_minor": 0,
  "metadata": {
    "colab": {
      "provenance": [],
      "authorship_tag": "ABX9TyNhtZ1YxRp04ZbNnUbBmBGv",
      "include_colab_link": true
    },
    "kernelspec": {
      "name": "python3",
      "display_name": "Python 3"
    },
    "language_info": {
      "name": "python"
    }
  },
  "cells": [
    {
      "cell_type": "markdown",
      "metadata": {
        "id": "view-in-github",
        "colab_type": "text"
      },
      "source": [
        "<a href=\"https://colab.research.google.com/github/AishlyManglani/Data-Mining-Assignments/blob/main/Assignment%201%20Python.ipynb\" target=\"_parent\"><img src=\"https://colab.research.google.com/assets/colab-badge.svg\" alt=\"Open In Colab\"/></a>"
      ]
    },
    {
      "cell_type": "code",
      "execution_count": 1,
      "metadata": {
        "colab": {
          "base_uri": "https://localhost:8080/"
        },
        "id": "bfH-6ssA3wjD",
        "outputId": "96725cdd-0213-4a9f-8204-ca180ef705fd"
      },
      "outputs": [
        {
          "output_type": "stream",
          "name": "stdout",
          "text": [
            "hello world\n"
          ]
        }
      ],
      "source": [
        " print(\"hello world\")"
      ]
    },
    {
      "cell_type": "code",
      "source": [
        "print(\"5 + 2 = \",5+2)\n",
        "print(\"5 - 2 = \",5-2)\n",
        "print(\"5 * 2 = \",5*2)\n",
        "print(\"5 / 2 = \",5/2)\n",
        "print(\"5 % 2 = \",5%2)\n",
        "print(\"5 ** 2 = \",5**2)\n",
        "print(\"5 // 2 = \",5//2)"
      ],
      "metadata": {
        "colab": {
          "base_uri": "https://localhost:8080/"
        },
        "id": "Za-B5i8_5Qqb",
        "outputId": "f74d2059-56ab-4c31-c33d-635d9fa8ea7b"
      },
      "execution_count": 3,
      "outputs": [
        {
          "output_type": "stream",
          "name": "stdout",
          "text": [
            "5 + 2 =  7\n",
            "5 - 2 =  3\n",
            "5 * 2 =  10\n",
            "5 / 2 =  2.5\n",
            "5 % 2 =  1\n",
            "5 ** 2 =  25\n",
            "5 // 2 =  2\n"
          ]
        }
      ]
    },
    {
      "cell_type": "code",
      "source": [
        "quote = \"\\Always remember your unique,\"\n",
        "multi_line_quote = '''just\n",
        "like everyone else\" '''\n",
        "print(quote + multi_line_quote)"
      ],
      "metadata": {
        "colab": {
          "base_uri": "https://localhost:8080/"
        },
        "id": "DsvnJPFr58a9",
        "outputId": "9f03f359-ac71-4465-e499-d3e2397f13b9"
      },
      "execution_count": 5,
      "outputs": [
        {
          "output_type": "stream",
          "name": "stdout",
          "text": [
            "\\Always remember your unique,just\n",
            "like everyone else\" \n"
          ]
        }
      ]
    },
    {
      "cell_type": "code",
      "source": [
        "#lists\n",
        "grocery_list = ['juice','tomatoes','potatoes','yougurt']\n",
        "print('the first item in the list is', grocery_list[0])\n",
        "grocery_list[0] = 'orange juice'\n",
        "print(grocery_list)\n",
        "#subset of list\n",
        "print(grocery_list[1:3])"
      ],
      "metadata": {
        "colab": {
          "base_uri": "https://localhost:8080/"
        },
        "id": "N9Ccufoh6fAd",
        "outputId": "c07605fa-616f-46f4-96a6-9650d7d3278e"
      },
      "execution_count": 8,
      "outputs": [
        {
          "output_type": "stream",
          "name": "stdout",
          "text": [
            "the first item in the list is juice\n",
            "['orange juice', 'tomatoes', 'potatoes', 'yougurt']\n",
            "['tomatoes', 'potatoes']\n"
          ]
        }
      ]
    },
    {
      "cell_type": "code",
      "source": [
        "#adding more data type to list\n",
        "other_events = ['wash car','pick up laundry']\n",
        "to_do_list = [other_events,grocery_list]\n",
        "print(to_do_list)\n",
        "# append items and insert, remove,sort,reverse,del\n",
        "grocery_list.append('onions')\n",
        "print(to_do_list)\n",
        "grocery_list.insert(1,\"pickle\")\n",
        "print(to_do_list)\n",
        "#length of list\n",
        "print(len(to_do_list))"
      ],
      "metadata": {
        "colab": {
          "base_uri": "https://localhost:8080/"
        },
        "id": "zbLfYstJ89GM",
        "outputId": "b7905f79-5047-4924-d6d8-1d1519e226bc"
      },
      "execution_count": 13,
      "outputs": [
        {
          "output_type": "stream",
          "name": "stdout",
          "text": [
            "[['wash car', 'pick up laundry'], ['orange juice', 'pickle', 'pickle', 'tomatoes', 'potatoes', 'yougurt', 'onions', 'onions', 'onions']]\n",
            "[['wash car', 'pick up laundry'], ['orange juice', 'pickle', 'pickle', 'tomatoes', 'potatoes', 'yougurt', 'onions', 'onions', 'onions', 'onions']]\n",
            "[['wash car', 'pick up laundry'], ['orange juice', 'pickle', 'pickle', 'pickle', 'tomatoes', 'potatoes', 'yougurt', 'onions', 'onions', 'onions', 'onions']]\n",
            "2\n"
          ]
        }
      ]
    },
    {
      "cell_type": "code",
      "source": [
        "#tuples\n",
        "pi_tuple = (3,1,4,5,6)\n",
        "print(pi_tuple)\n",
        "#convert tuple into list\n",
        "new_tuple = list(pi_tuple)\n",
        "print(new_tuple)\n"
      ],
      "metadata": {
        "colab": {
          "base_uri": "https://localhost:8080/"
        },
        "id": "MlwNRBF393Qc",
        "outputId": "4387764b-46e1-4b28-b9f3-91e8590bddf1"
      },
      "execution_count": 17,
      "outputs": [
        {
          "output_type": "stream",
          "name": "stdout",
          "text": [
            "(3, 1, 4, 5, 6)\n",
            "[3, 1, 4, 5, 6]\n"
          ]
        }
      ]
    },
    {
      "cell_type": "code",
      "source": [
        "#dictionary\n",
        "super_villains = {'Fiddler' : 'Isaac Bowin',\n",
        "                  'Captain Cold' : 'Leonard Snart',\n",
        "                  'Weather Wizard' : 'Mark Mardon',\n",
        "                  'Mirror Master' : 'Sam Scudder'}\n",
        "print(super_villains['Captain Cold'])\n",
        "#delete an entry\n",
        "del super_villains['Fiddler']\n",
        "print(super_villains)\n",
        "#replace an entry\n",
        "super_villains['Pied Piper'] = 'Hartley Rathaway'\n",
        "print(len(super_villains))\n",
        "print(super_villains.keys())\n",
        "print(super_villains.values())"
      ],
      "metadata": {
        "colab": {
          "base_uri": "https://localhost:8080/"
        },
        "id": "sqySPGf-_ozh",
        "outputId": "398d5573-4ef0-4382-c365-c6432770d250"
      },
      "execution_count": 22,
      "outputs": [
        {
          "output_type": "stream",
          "name": "stdout",
          "text": [
            "Leonard Snart\n",
            "{'Captain Cold': 'Leonard Snart', 'Weather Wizard': 'Mark Mardon', 'Mirror Master': 'Sam Scudder'}\n",
            "4\n",
            "dict_keys(['Captain Cold', 'Weather Wizard', 'Mirror Master', 'Pied Piper'])\n",
            "dict_values(['Leonard Snart', 'Mark Mardon', 'Sam Scudder', 'Hartley Rathaway'])\n"
          ]
        }
      ]
    },
    {
      "cell_type": "code",
      "source": [
        "#conditional statements\n",
        "age = input(\"enter age:\")\n",
        "age = int(age)\n",
        "if age > 16:\n",
        "  print('you are old enough to drive because you are', age)\n",
        "else:\n",
        "  print('you are not old enough to drive because you are', age)\n"
      ],
      "metadata": {
        "colab": {
          "base_uri": "https://localhost:8080/"
        },
        "id": "-ND1QulaAqF_",
        "outputId": "12690438-d5be-40dd-d675-9a97fd47ac80"
      },
      "execution_count": 29,
      "outputs": [
        {
          "output_type": "stream",
          "name": "stdout",
          "text": [
            "enter age:12\n",
            "you are not old enough to drive because you are 12\n"
          ]
        }
      ]
    },
    {
      "cell_type": "code",
      "source": [
        "#for loops\n",
        "for x in range(0,10):\n",
        "  print(x, '', end='')\n",
        "print('\\n')"
      ],
      "metadata": {
        "colab": {
          "base_uri": "https://localhost:8080/"
        },
        "id": "f9y3sCO-D-wx",
        "outputId": "c7bc907c-fbd4-4d4d-d220-ff39e0d5d64f"
      },
      "execution_count": 30,
      "outputs": [
        {
          "output_type": "stream",
          "name": "stdout",
          "text": [
            "0 1 2 3 4 5 6 7 8 9 \n",
            "\n"
          ]
        }
      ]
    },
    {
      "cell_type": "code",
      "source": [
        "grocery_list = ['juice','tomatoes','potatoes','yougurt']\n",
        "for y in grocery_list:\n",
        "  print(y)\n"
      ],
      "metadata": {
        "colab": {
          "base_uri": "https://localhost:8080/"
        },
        "id": "R6gFB3ThFRxT",
        "outputId": "d804cc5b-c547-41d4-e0f1-f6d35c109624"
      },
      "execution_count": 31,
      "outputs": [
        {
          "output_type": "stream",
          "name": "stdout",
          "text": [
            "juice\n",
            "tomatoes\n",
            "potatoes\n",
            "yougurt\n"
          ]
        }
      ]
    },
    {
      "cell_type": "code",
      "source": [
        "num_list = [[1,2,3],[10,20,30],[100,200,300]]\n",
        "for x in range(0,3):\n",
        "  for y in range(0,3):\n",
        "    print(num_list[x][y])"
      ],
      "metadata": {
        "colab": {
          "base_uri": "https://localhost:8080/"
        },
        "id": "ZLB_3yS5Faog",
        "outputId": "5d4fec10-2eda-4a03-d94d-5c0738c9ac44"
      },
      "execution_count": 32,
      "outputs": [
        {
          "output_type": "stream",
          "name": "stdout",
          "text": [
            "1\n",
            "2\n",
            "3\n",
            "10\n",
            "20\n",
            "30\n",
            "100\n",
            "200\n",
            "300\n"
          ]
        }
      ]
    },
    {
      "cell_type": "code",
      "source": [
        "#while loops\n",
        "import random\n",
        "random_num = random.randrange(0,100)\n",
        "\n",
        "while(random_num != 15):\n",
        "  print(random_num)\n",
        "  random_num = random.randrange(0,100)\n",
        ""
      ],
      "metadata": {
        "colab": {
          "base_uri": "https://localhost:8080/"
        },
        "id": "pBWjBczaFh7V",
        "outputId": "dde1fc8d-25a2-432e-ddc6-d0351cacab99"
      },
      "execution_count": 37,
      "outputs": [
        {
          "output_type": "stream",
          "name": "stdout",
          "text": [
            "95\n",
            "62\n",
            "54\n",
            "5\n",
            "93\n",
            "54\n",
            "46\n",
            "8\n",
            "45\n",
            "48\n",
            "78\n",
            "12\n",
            "26\n",
            "56\n",
            "20\n",
            "53\n",
            "51\n",
            "63\n",
            "48\n",
            "61\n",
            "1\n",
            "23\n",
            "55\n",
            "85\n",
            "11\n",
            "79\n",
            "76\n",
            "65\n",
            "22\n",
            "60\n",
            "19\n",
            "77\n",
            "57\n",
            "3\n",
            "25\n",
            "82\n",
            "1\n",
            "81\n",
            "60\n",
            "87\n",
            "86\n",
            "65\n",
            "82\n",
            "23\n",
            "31\n",
            "83\n",
            "62\n",
            "63\n",
            "56\n",
            "36\n",
            "54\n",
            "9\n",
            "27\n",
            "26\n",
            "1\n",
            "63\n",
            "25\n",
            "17\n",
            "10\n",
            "59\n",
            "49\n",
            "29\n",
            "88\n",
            "34\n",
            "47\n",
            "28\n",
            "90\n",
            "63\n",
            "32\n",
            "61\n",
            "22\n",
            "23\n",
            "73\n",
            "35\n",
            "60\n",
            "53\n",
            "32\n",
            "10\n",
            "75\n",
            "9\n",
            "67\n",
            "79\n",
            "36\n",
            "95\n",
            "59\n",
            "76\n",
            "87\n",
            "91\n",
            "29\n",
            "18\n",
            "6\n",
            "9\n",
            "14\n",
            "64\n",
            "29\n",
            "78\n"
          ]
        }
      ]
    },
    {
      "cell_type": "code",
      "source": [
        "i = 0;\n",
        "while(i <= 20):\n",
        "  if(i%2 == 0):\n",
        "    print(i)\n",
        "  elif(i == 9):\n",
        "    break\n",
        "  else:\n",
        "    i += 1\n",
        "    continue\n",
        "  i += 1"
      ],
      "metadata": {
        "colab": {
          "base_uri": "https://localhost:8080/"
        },
        "id": "AXWdepn6F98h",
        "outputId": "ff601328-7586-4ed4-bb01-f4f948073906"
      },
      "execution_count": 38,
      "outputs": [
        {
          "output_type": "stream",
          "name": "stdout",
          "text": [
            "0\n",
            "2\n",
            "4\n",
            "6\n",
            "8\n"
          ]
        }
      ]
    },
    {
      "cell_type": "code",
      "source": [
        "#functions\n",
        "def addNumber(fNum, lNum):\n",
        "  sumNum = fNum + lNum\n",
        "  return sumNum\n",
        "print(addNumber(1,4))"
      ],
      "metadata": {
        "colab": {
          "base_uri": "https://localhost:8080/"
        },
        "id": "1SiiWOUuGbgb",
        "outputId": "9ef5ca3c-81d5-4d07-e522-b7f635cb8177"
      },
      "execution_count": 39,
      "outputs": [
        {
          "output_type": "stream",
          "name": "stdout",
          "text": [
            "5\n"
          ]
        }
      ]
    },
    {
      "cell_type": "code",
      "source": [
        "#user input\n",
        "import sys\n",
        "print('What is your name?')\n",
        "name = input()\n",
        "print('Hello', name)"
      ],
      "metadata": {
        "colab": {
          "base_uri": "https://localhost:8080/"
        },
        "id": "Jer9fh4kKXBn",
        "outputId": "16b6d7e2-df6c-4644-800f-7915ab28c19c"
      },
      "execution_count": 43,
      "outputs": [
        {
          "output_type": "stream",
          "name": "stdout",
          "text": [
            "What is your name?\n",
            "Aishly\n",
            "Hello Aishly\n"
          ]
        }
      ]
    },
    {
      "cell_type": "code",
      "source": [
        "#files\n",
        "test_file = open(\"test.txt\",\"wb\")\n",
        "print(test_file.mode)\n",
        "print(test_file.name)\n",
        "test_file.write(bytes(\"Write me to the file\\n\",\"UTF-8\"))\n",
        "test_file.close()\n",
        "test_file = open(\"test.txt\",\"r+\")\n",
        "text_in_file = test_file.read()\n",
        "print(text_in_file)\n",
        "test_file.close()\n",
        "#delete the file\n",
        "import os\n",
        "os.remove(\"test.txt\")\n"
      ],
      "metadata": {
        "colab": {
          "base_uri": "https://localhost:8080/"
        },
        "id": "HPO0QQB7O2UZ",
        "outputId": "1dd82fec-7da5-4502-a60e-78534415a12f"
      },
      "execution_count": 4,
      "outputs": [
        {
          "output_type": "stream",
          "name": "stdout",
          "text": [
            "wb\n",
            "test.txt\n",
            "Write me to the file\n",
            "\n"
          ]
        }
      ]
    },
    {
      "cell_type": "code",
      "source": [
        "#objects and classes\n",
        "class Animal:\n",
        "  __name = \"\"\n",
        "  __height = 0\n",
        "  __weight = 0\n",
        "  __sound = 0\n",
        "  def __init__(self, name, height,weight,sound):\n",
        "    self.__name = name\n",
        "    self.__height = height\n",
        "    self.__weight = weight\n",
        "    self.__sound = sound\n",
        "  def set_name(self, name):\n",
        "    self.__name = name\n",
        "  def set_height(self, height):\n",
        "    self.__height = height\n",
        "  def set_weight(self, weight):\n",
        "    self.__weight = weight\n",
        "  def set_sound(self, sound):\n",
        "    self.__sound = sound\n",
        "  def get_name(self):\n",
        "    return self.__name\n",
        "  def get_height(self):\n",
        "    return str(self.__height)\n",
        "  def get_weight(self):\n",
        "    return str(self.__weight)\n",
        "  def get_sound(self):\n",
        "    return self.__sound\n",
        "  def get_type(self):\n",
        "    print(\"Animal\")\n",
        "  def toString(self):\n",
        "    return \"{} is {} cm tall and {} kilograms and say {}\".format(self.__name,self.__height,self.__weight,self.__sound)\n",
        "#Animal object\n",
        "cat = Animal('Whiskers',33,10,'Meow')\n",
        "print(cat.toString())\n"
      ],
      "metadata": {
        "colab": {
          "base_uri": "https://localhost:8080/"
        },
        "id": "_YO7upqcPock",
        "outputId": "b8a5a61f-1b70-4ff3-e007-6f571dd33e64"
      },
      "execution_count": 5,
      "outputs": [
        {
          "output_type": "stream",
          "name": "stdout",
          "text": [
            "Whiskers is 33 cm tall and 10 kilograms and say Meow\n"
          ]
        }
      ]
    },
    {
      "cell_type": "code",
      "source": [
        "#Inheritance\n",
        "\n",
        "\n",
        "\n",
        "class Dog (Animal):\n",
        "  __owner = \"\"\n",
        "  def __init__(self,name,height,weight,sound,owner):\n",
        "    self.__owner = owner\n",
        "    super(Dog,self).__init__(name,height,weight,sound)\n",
        "  def set_owner(self,owner):\n",
        "    self.__owner = owner\n",
        "  def get_owner(self):\n",
        "    return self.__owner\n",
        "  def get_type(self):\n",
        "    print(\"Dog\")\n",
        "  def toString(self):\n",
        "    return \"{} is {} cm tall and {} kilograms and say {}, His owner is {}\".format(self.get_name(),self.get_height(),self.get_weight(),self.get_sound(),self.__owner)\n",
        "  def multiple_sounds(self,how_many=None):\n",
        "    if how_many is None:\n",
        "      print(self.get_sound())\n",
        "    else:\n",
        "      print(self.get_sound()*how_many)\n",
        "spot = Dog(\"Spot\",53,27,\"Ruff\",\"Derek\")\n",
        "print(spot.toString())\n",
        "\n",
        "class AnimalTesting:\n",
        "  def get_type(self, animal):\n",
        "    animal.get_type()\n",
        "test_animals = AnimalTesting()\n",
        "test_animals.get_type(cat)\n",
        "test_animals.get_type(spot)\n",
        "spot.multiple_sounds(4)\n",
        "\n"
      ],
      "metadata": {
        "colab": {
          "base_uri": "https://localhost:8080/"
        },
        "id": "z6mboOwDRhEB",
        "outputId": "395aa688-ae91-48fb-d7f2-9bbf278a3aa1"
      },
      "execution_count": 12,
      "outputs": [
        {
          "output_type": "stream",
          "name": "stdout",
          "text": [
            "Spot is 53 cm tall and 27 kilograms and say Ruff, His owner is Derek\n",
            "Animal\n",
            "Dog\n",
            "RuffRuffRuffRuff\n"
          ]
        }
      ]
    }
  ]
}