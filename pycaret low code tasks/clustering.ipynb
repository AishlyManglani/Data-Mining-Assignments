{
  "nbformat": 4,
  "nbformat_minor": 0,
  "metadata": {
    "colab": {
      "provenance": [],
      "authorship_tag": "ABX9TyNhE+FBwsYBFuMhGAIQBXvw",
      "include_colab_link": true
    },
    "kernelspec": {
      "name": "python3",
      "display_name": "Python 3"
    },
    "language_info": {
      "name": "python"
    },
    "widgets": {
      "application/vnd.jupyter.widget-state+json": {
        "c94e2faa416b402b96fc7e9c9cc61206": {
          "model_module": "@jupyter-widgets/controls",
          "model_name": "HBoxModel",
          "model_module_version": "1.5.0",
          "state": {
            "_dom_classes": [],
            "_model_module": "@jupyter-widgets/controls",
            "_model_module_version": "1.5.0",
            "_model_name": "HBoxModel",
            "_view_count": null,
            "_view_module": "@jupyter-widgets/controls",
            "_view_module_version": "1.5.0",
            "_view_name": "HBoxView",
            "box_style": "",
            "children": [
              "IPY_MODEL_047757bf8de9447ba4d6be444722cdbd",
              "IPY_MODEL_883c2b83a8ec4929864ebceeb2882424",
              "IPY_MODEL_5a1bb3a00df54bdaaef201fd7ec5d3f6"
            ],
            "layout": "IPY_MODEL_36086355f952421c90b407e53cab3655"
          }
        },
        "047757bf8de9447ba4d6be444722cdbd": {
          "model_module": "@jupyter-widgets/controls",
          "model_name": "HTMLModel",
          "model_module_version": "1.5.0",
          "state": {
            "_dom_classes": [],
            "_model_module": "@jupyter-widgets/controls",
            "_model_module_version": "1.5.0",
            "_model_name": "HTMLModel",
            "_view_count": null,
            "_view_module": "@jupyter-widgets/controls",
            "_view_module_version": "1.5.0",
            "_view_name": "HTMLView",
            "description": "",
            "description_tooltip": null,
            "layout": "IPY_MODEL_30305434ff1d42369c8c3366d2b59084",
            "placeholder": "​",
            "style": "IPY_MODEL_c6d8655ddcba4842b759aa8fa9d224d2",
            "value": "Processing:   0%"
          }
        },
        "883c2b83a8ec4929864ebceeb2882424": {
          "model_module": "@jupyter-widgets/controls",
          "model_name": "FloatProgressModel",
          "model_module_version": "1.5.0",
          "state": {
            "_dom_classes": [],
            "_model_module": "@jupyter-widgets/controls",
            "_model_module_version": "1.5.0",
            "_model_name": "FloatProgressModel",
            "_view_count": null,
            "_view_module": "@jupyter-widgets/controls",
            "_view_module_version": "1.5.0",
            "_view_name": "ProgressView",
            "bar_style": "",
            "description": "",
            "description_tooltip": null,
            "layout": "IPY_MODEL_f8b348bea89c4d27a29ee899f29faaee",
            "max": 3,
            "min": 0,
            "orientation": "horizontal",
            "style": "IPY_MODEL_4c704ce73b304bd08b4e050e2e4494f1",
            "value": 3
          }
        },
        "5a1bb3a00df54bdaaef201fd7ec5d3f6": {
          "model_module": "@jupyter-widgets/controls",
          "model_name": "HTMLModel",
          "model_module_version": "1.5.0",
          "state": {
            "_dom_classes": [],
            "_model_module": "@jupyter-widgets/controls",
            "_model_module_version": "1.5.0",
            "_model_name": "HTMLModel",
            "_view_count": null,
            "_view_module": "@jupyter-widgets/controls",
            "_view_module_version": "1.5.0",
            "_view_name": "HTMLView",
            "description": "",
            "description_tooltip": null,
            "layout": "IPY_MODEL_38e01c8eb89342ce9b74f116212d88b2",
            "placeholder": "​",
            "style": "IPY_MODEL_788ef75b36184e099c78c08fb0ac07cb",
            "value": " 0/3 [00:00&lt;?, ?it/s]"
          }
        },
        "36086355f952421c90b407e53cab3655": {
          "model_module": "@jupyter-widgets/base",
          "model_name": "LayoutModel",
          "model_module_version": "1.2.0",
          "state": {
            "_model_module": "@jupyter-widgets/base",
            "_model_module_version": "1.2.0",
            "_model_name": "LayoutModel",
            "_view_count": null,
            "_view_module": "@jupyter-widgets/base",
            "_view_module_version": "1.2.0",
            "_view_name": "LayoutView",
            "align_content": null,
            "align_items": null,
            "align_self": null,
            "border": null,
            "bottom": null,
            "display": null,
            "flex": null,
            "flex_flow": null,
            "grid_area": null,
            "grid_auto_columns": null,
            "grid_auto_flow": null,
            "grid_auto_rows": null,
            "grid_column": null,
            "grid_gap": null,
            "grid_row": null,
            "grid_template_areas": null,
            "grid_template_columns": null,
            "grid_template_rows": null,
            "height": null,
            "justify_content": null,
            "justify_items": null,
            "left": null,
            "margin": null,
            "max_height": null,
            "max_width": null,
            "min_height": null,
            "min_width": null,
            "object_fit": null,
            "object_position": null,
            "order": null,
            "overflow": null,
            "overflow_x": null,
            "overflow_y": null,
            "padding": null,
            "right": null,
            "top": null,
            "visibility": "hidden",
            "width": null
          }
        },
        "30305434ff1d42369c8c3366d2b59084": {
          "model_module": "@jupyter-widgets/base",
          "model_name": "LayoutModel",
          "model_module_version": "1.2.0",
          "state": {
            "_model_module": "@jupyter-widgets/base",
            "_model_module_version": "1.2.0",
            "_model_name": "LayoutModel",
            "_view_count": null,
            "_view_module": "@jupyter-widgets/base",
            "_view_module_version": "1.2.0",
            "_view_name": "LayoutView",
            "align_content": null,
            "align_items": null,
            "align_self": null,
            "border": null,
            "bottom": null,
            "display": null,
            "flex": null,
            "flex_flow": null,
            "grid_area": null,
            "grid_auto_columns": null,
            "grid_auto_flow": null,
            "grid_auto_rows": null,
            "grid_column": null,
            "grid_gap": null,
            "grid_row": null,
            "grid_template_areas": null,
            "grid_template_columns": null,
            "grid_template_rows": null,
            "height": null,
            "justify_content": null,
            "justify_items": null,
            "left": null,
            "margin": null,
            "max_height": null,
            "max_width": null,
            "min_height": null,
            "min_width": null,
            "object_fit": null,
            "object_position": null,
            "order": null,
            "overflow": null,
            "overflow_x": null,
            "overflow_y": null,
            "padding": null,
            "right": null,
            "top": null,
            "visibility": null,
            "width": null
          }
        },
        "c6d8655ddcba4842b759aa8fa9d224d2": {
          "model_module": "@jupyter-widgets/controls",
          "model_name": "DescriptionStyleModel",
          "model_module_version": "1.5.0",
          "state": {
            "_model_module": "@jupyter-widgets/controls",
            "_model_module_version": "1.5.0",
            "_model_name": "DescriptionStyleModel",
            "_view_count": null,
            "_view_module": "@jupyter-widgets/base",
            "_view_module_version": "1.2.0",
            "_view_name": "StyleView",
            "description_width": ""
          }
        },
        "f8b348bea89c4d27a29ee899f29faaee": {
          "model_module": "@jupyter-widgets/base",
          "model_name": "LayoutModel",
          "model_module_version": "1.2.0",
          "state": {
            "_model_module": "@jupyter-widgets/base",
            "_model_module_version": "1.2.0",
            "_model_name": "LayoutModel",
            "_view_count": null,
            "_view_module": "@jupyter-widgets/base",
            "_view_module_version": "1.2.0",
            "_view_name": "LayoutView",
            "align_content": null,
            "align_items": null,
            "align_self": null,
            "border": null,
            "bottom": null,
            "display": null,
            "flex": null,
            "flex_flow": null,
            "grid_area": null,
            "grid_auto_columns": null,
            "grid_auto_flow": null,
            "grid_auto_rows": null,
            "grid_column": null,
            "grid_gap": null,
            "grid_row": null,
            "grid_template_areas": null,
            "grid_template_columns": null,
            "grid_template_rows": null,
            "height": null,
            "justify_content": null,
            "justify_items": null,
            "left": null,
            "margin": null,
            "max_height": null,
            "max_width": null,
            "min_height": null,
            "min_width": null,
            "object_fit": null,
            "object_position": null,
            "order": null,
            "overflow": null,
            "overflow_x": null,
            "overflow_y": null,
            "padding": null,
            "right": null,
            "top": null,
            "visibility": null,
            "width": null
          }
        },
        "4c704ce73b304bd08b4e050e2e4494f1": {
          "model_module": "@jupyter-widgets/controls",
          "model_name": "ProgressStyleModel",
          "model_module_version": "1.5.0",
          "state": {
            "_model_module": "@jupyter-widgets/controls",
            "_model_module_version": "1.5.0",
            "_model_name": "ProgressStyleModel",
            "_view_count": null,
            "_view_module": "@jupyter-widgets/base",
            "_view_module_version": "1.2.0",
            "_view_name": "StyleView",
            "bar_color": null,
            "description_width": ""
          }
        },
        "38e01c8eb89342ce9b74f116212d88b2": {
          "model_module": "@jupyter-widgets/base",
          "model_name": "LayoutModel",
          "model_module_version": "1.2.0",
          "state": {
            "_model_module": "@jupyter-widgets/base",
            "_model_module_version": "1.2.0",
            "_model_name": "LayoutModel",
            "_view_count": null,
            "_view_module": "@jupyter-widgets/base",
            "_view_module_version": "1.2.0",
            "_view_name": "LayoutView",
            "align_content": null,
            "align_items": null,
            "align_self": null,
            "border": null,
            "bottom": null,
            "display": null,
            "flex": null,
            "flex_flow": null,
            "grid_area": null,
            "grid_auto_columns": null,
            "grid_auto_flow": null,
            "grid_auto_rows": null,
            "grid_column": null,
            "grid_gap": null,
            "grid_row": null,
            "grid_template_areas": null,
            "grid_template_columns": null,
            "grid_template_rows": null,
            "height": null,
            "justify_content": null,
            "justify_items": null,
            "left": null,
            "margin": null,
            "max_height": null,
            "max_width": null,
            "min_height": null,
            "min_width": null,
            "object_fit": null,
            "object_position": null,
            "order": null,
            "overflow": null,
            "overflow_x": null,
            "overflow_y": null,
            "padding": null,
            "right": null,
            "top": null,
            "visibility": null,
            "width": null
          }
        },
        "788ef75b36184e099c78c08fb0ac07cb": {
          "model_module": "@jupyter-widgets/controls",
          "model_name": "DescriptionStyleModel",
          "model_module_version": "1.5.0",
          "state": {
            "_model_module": "@jupyter-widgets/controls",
            "_model_module_version": "1.5.0",
            "_model_name": "DescriptionStyleModel",
            "_view_count": null,
            "_view_module": "@jupyter-widgets/base",
            "_view_module_version": "1.2.0",
            "_view_name": "StyleView",
            "description_width": ""
          }
        },
        "59acf345d88d4e5eb0626850e89bff53": {
          "model_module": "@jupyter-widgets/controls",
          "model_name": "VBoxModel",
          "model_module_version": "1.5.0",
          "state": {
            "_dom_classes": [
              "widget-interact"
            ],
            "_model_module": "@jupyter-widgets/controls",
            "_model_module_version": "1.5.0",
            "_model_name": "VBoxModel",
            "_view_count": null,
            "_view_module": "@jupyter-widgets/controls",
            "_view_module_version": "1.5.0",
            "_view_name": "VBoxView",
            "box_style": "",
            "children": [
              "IPY_MODEL_e7de815b25294388bca5379f37b917cd",
              "IPY_MODEL_50b09895ad694c5f8984b66e3886b28f"
            ],
            "layout": "IPY_MODEL_a6771c86d7774f62ae07fc767ffb513d"
          }
        },
        "e7de815b25294388bca5379f37b917cd": {
          "model_module": "@jupyter-widgets/controls",
          "model_name": "ToggleButtonsModel",
          "model_module_version": "1.5.0",
          "state": {
            "_dom_classes": [],
            "_model_module": "@jupyter-widgets/controls",
            "_model_module_version": "1.5.0",
            "_model_name": "ToggleButtonsModel",
            "_options_labels": [
              "Pipeline Plot",
              "t-SNE (3d) Dimension Plot",
              "Cluster t-SNE (3d)",
              "Elbow Plot",
              "Silhouette Plot",
              "Distance Plot",
              "Distribution Plot"
            ],
            "_view_count": null,
            "_view_module": "@jupyter-widgets/controls",
            "_view_module_version": "1.5.0",
            "_view_name": "ToggleButtonsView",
            "button_style": "",
            "description": "Plot Type:",
            "description_tooltip": null,
            "disabled": false,
            "icons": [
              ""
            ],
            "index": 0,
            "layout": "IPY_MODEL_692ad99594ee44f2af423be287533415",
            "style": "IPY_MODEL_14856f9a06644f298b59f49862b952c8",
            "tooltips": []
          }
        },
        "50b09895ad694c5f8984b66e3886b28f": {
          "model_module": "@jupyter-widgets/output",
          "model_name": "OutputModel",
          "model_module_version": "1.0.0",
          "state": {
            "_dom_classes": [],
            "_model_module": "@jupyter-widgets/output",
            "_model_module_version": "1.0.0",
            "_model_name": "OutputModel",
            "_view_count": null,
            "_view_module": "@jupyter-widgets/output",
            "_view_module_version": "1.0.0",
            "_view_name": "OutputView",
            "layout": "IPY_MODEL_e717d6e8752e4f1c92707ea471d98724",
            "msg_id": "",
            "outputs": [
              {
                "output_type": "display_data",
                "data": {
                  "text/plain": "<Figure size 1700x600 with 1 Axes>",
                  "image/png": "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\n"
                },
                "metadata": {}
              }
            ]
          }
        },
        "a6771c86d7774f62ae07fc767ffb513d": {
          "model_module": "@jupyter-widgets/base",
          "model_name": "LayoutModel",
          "model_module_version": "1.2.0",
          "state": {
            "_model_module": "@jupyter-widgets/base",
            "_model_module_version": "1.2.0",
            "_model_name": "LayoutModel",
            "_view_count": null,
            "_view_module": "@jupyter-widgets/base",
            "_view_module_version": "1.2.0",
            "_view_name": "LayoutView",
            "align_content": null,
            "align_items": null,
            "align_self": null,
            "border": null,
            "bottom": null,
            "display": null,
            "flex": null,
            "flex_flow": null,
            "grid_area": null,
            "grid_auto_columns": null,
            "grid_auto_flow": null,
            "grid_auto_rows": null,
            "grid_column": null,
            "grid_gap": null,
            "grid_row": null,
            "grid_template_areas": null,
            "grid_template_columns": null,
            "grid_template_rows": null,
            "height": null,
            "justify_content": null,
            "justify_items": null,
            "left": null,
            "margin": null,
            "max_height": null,
            "max_width": null,
            "min_height": null,
            "min_width": null,
            "object_fit": null,
            "object_position": null,
            "order": null,
            "overflow": null,
            "overflow_x": null,
            "overflow_y": null,
            "padding": null,
            "right": null,
            "top": null,
            "visibility": null,
            "width": null
          }
        },
        "692ad99594ee44f2af423be287533415": {
          "model_module": "@jupyter-widgets/base",
          "model_name": "LayoutModel",
          "model_module_version": "1.2.0",
          "state": {
            "_model_module": "@jupyter-widgets/base",
            "_model_module_version": "1.2.0",
            "_model_name": "LayoutModel",
            "_view_count": null,
            "_view_module": "@jupyter-widgets/base",
            "_view_module_version": "1.2.0",
            "_view_name": "LayoutView",
            "align_content": null,
            "align_items": null,
            "align_self": null,
            "border": null,
            "bottom": null,
            "display": null,
            "flex": null,
            "flex_flow": null,
            "grid_area": null,
            "grid_auto_columns": null,
            "grid_auto_flow": null,
            "grid_auto_rows": null,
            "grid_column": null,
            "grid_gap": null,
            "grid_row": null,
            "grid_template_areas": null,
            "grid_template_columns": null,
            "grid_template_rows": null,
            "height": null,
            "justify_content": null,
            "justify_items": null,
            "left": null,
            "margin": null,
            "max_height": null,
            "max_width": null,
            "min_height": null,
            "min_width": null,
            "object_fit": null,
            "object_position": null,
            "order": null,
            "overflow": null,
            "overflow_x": null,
            "overflow_y": null,
            "padding": null,
            "right": null,
            "top": null,
            "visibility": null,
            "width": null
          }
        },
        "14856f9a06644f298b59f49862b952c8": {
          "model_module": "@jupyter-widgets/controls",
          "model_name": "ToggleButtonsStyleModel",
          "model_module_version": "1.5.0",
          "state": {
            "_model_module": "@jupyter-widgets/controls",
            "_model_module_version": "1.5.0",
            "_model_name": "ToggleButtonsStyleModel",
            "_view_count": null,
            "_view_module": "@jupyter-widgets/base",
            "_view_module_version": "1.2.0",
            "_view_name": "StyleView",
            "button_width": "",
            "description_width": "",
            "font_weight": ""
          }
        },
        "e717d6e8752e4f1c92707ea471d98724": {
          "model_module": "@jupyter-widgets/base",
          "model_name": "LayoutModel",
          "model_module_version": "1.2.0",
          "state": {
            "_model_module": "@jupyter-widgets/base",
            "_model_module_version": "1.2.0",
            "_model_name": "LayoutModel",
            "_view_count": null,
            "_view_module": "@jupyter-widgets/base",
            "_view_module_version": "1.2.0",
            "_view_name": "LayoutView",
            "align_content": null,
            "align_items": null,
            "align_self": null,
            "border": null,
            "bottom": null,
            "display": null,
            "flex": null,
            "flex_flow": null,
            "grid_area": null,
            "grid_auto_columns": null,
            "grid_auto_flow": null,
            "grid_auto_rows": null,
            "grid_column": null,
            "grid_gap": null,
            "grid_row": null,
            "grid_template_areas": null,
            "grid_template_columns": null,
            "grid_template_rows": null,
            "height": null,
            "justify_content": null,
            "justify_items": null,
            "left": null,
            "margin": null,
            "max_height": null,
            "max_width": null,
            "min_height": null,
            "min_width": null,
            "object_fit": null,
            "object_position": null,
            "order": null,
            "overflow": null,
            "overflow_x": null,
            "overflow_y": null,
            "padding": null,
            "right": null,
            "top": null,
            "visibility": null,
            "width": null
          }
        }
      }
    }
  },
  "cells": [
    {
      "cell_type": "markdown",
      "metadata": {
        "id": "view-in-github",
        "colab_type": "text"
      },
      "source": [
        "<a href=\"https://colab.research.google.com/github/AishlyManglani/Data-Mining-Assignments/blob/main/pycaret%20low%20code%20tasks/clustering.ipynb\" target=\"_parent\"><img src=\"https://colab.research.google.com/assets/colab-badge.svg\" alt=\"Open In Colab\"/></a>"
      ]
    },
    {
      "cell_type": "code",
      "execution_count": 1,
      "metadata": {
        "colab": {
          "base_uri": "https://localhost:8080/"
        },
        "id": "nf8DUq-Gl_kT",
        "outputId": "7e2c00d4-95e9-4a5e-c3f2-03f50dc235ff"
      },
      "outputs": [
        {
          "output_type": "stream",
          "name": "stdout",
          "text": [
            "Collecting pycaret\n",
            "  Downloading pycaret-3.3.2-py3-none-any.whl.metadata (17 kB)\n",
            "Requirement already satisfied: ipython>=5.5.0 in /usr/local/lib/python3.10/dist-packages (from pycaret) (7.34.0)\n",
            "Requirement already satisfied: ipywidgets>=7.6.5 in /usr/local/lib/python3.10/dist-packages (from pycaret) (7.7.1)\n",
            "Requirement already satisfied: tqdm>=4.62.0 in /usr/local/lib/python3.10/dist-packages (from pycaret) (4.66.5)\n",
            "Requirement already satisfied: numpy<1.27,>=1.21 in /usr/local/lib/python3.10/dist-packages (from pycaret) (1.26.4)\n",
            "Requirement already satisfied: pandas<2.2.0 in /usr/local/lib/python3.10/dist-packages (from pycaret) (2.1.4)\n",
            "Requirement already satisfied: jinja2>=3 in /usr/local/lib/python3.10/dist-packages (from pycaret) (3.1.4)\n",
            "Collecting scipy<=1.11.4,>=1.6.1 (from pycaret)\n",
            "  Downloading scipy-1.11.4-cp310-cp310-manylinux_2_17_x86_64.manylinux2014_x86_64.whl.metadata (60 kB)\n",
            "\u001b[2K     \u001b[90m━━━━━━━━━━━━━━━━━━━━━━━━━━━━━━━━━━━━━━━━\u001b[0m \u001b[32m60.4/60.4 kB\u001b[0m \u001b[31m1.6 MB/s\u001b[0m eta \u001b[36m0:00:00\u001b[0m\n",
            "\u001b[?25hCollecting joblib<1.4,>=1.2.0 (from pycaret)\n",
            "  Downloading joblib-1.3.2-py3-none-any.whl.metadata (5.4 kB)\n",
            "Collecting scikit-learn>1.4.0 (from pycaret)\n",
            "  Downloading scikit_learn-1.5.2-cp310-cp310-manylinux_2_17_x86_64.manylinux2014_x86_64.whl.metadata (13 kB)\n",
            "Collecting pyod>=1.1.3 (from pycaret)\n",
            "  Downloading pyod-2.0.2.tar.gz (165 kB)\n",
            "\u001b[2K     \u001b[90m━━━━━━━━━━━━━━━━━━━━━━━━━━━━━━━━━━━━━━━━\u001b[0m \u001b[32m165.8/165.8 kB\u001b[0m \u001b[31m5.6 MB/s\u001b[0m eta \u001b[36m0:00:00\u001b[0m\n",
            "\u001b[?25h  Preparing metadata (setup.py) ... \u001b[?25l\u001b[?25hdone\n",
            "Requirement already satisfied: imbalanced-learn>=0.12.0 in /usr/local/lib/python3.10/dist-packages (from pycaret) (0.12.3)\n",
            "Collecting category-encoders>=2.4.0 (from pycaret)\n",
            "  Downloading category_encoders-2.6.3-py2.py3-none-any.whl.metadata (8.0 kB)\n",
            "Requirement already satisfied: lightgbm>=3.0.0 in /usr/local/lib/python3.10/dist-packages (from pycaret) (4.5.0)\n",
            "Requirement already satisfied: numba>=0.55.0 in /usr/local/lib/python3.10/dist-packages (from pycaret) (0.60.0)\n",
            "Requirement already satisfied: requests>=2.27.1 in /usr/local/lib/python3.10/dist-packages (from pycaret) (2.32.3)\n",
            "Requirement already satisfied: psutil>=5.9.0 in /usr/local/lib/python3.10/dist-packages (from pycaret) (5.9.5)\n",
            "Requirement already satisfied: markupsafe>=2.0.1 in /usr/local/lib/python3.10/dist-packages (from pycaret) (2.1.5)\n",
            "Requirement already satisfied: importlib-metadata>=4.12.0 in /usr/local/lib/python3.10/dist-packages (from pycaret) (8.5.0)\n",
            "Requirement already satisfied: nbformat>=4.2.0 in /usr/local/lib/python3.10/dist-packages (from pycaret) (5.10.4)\n",
            "Requirement already satisfied: cloudpickle in /usr/local/lib/python3.10/dist-packages (from pycaret) (2.2.1)\n",
            "Collecting deprecation>=2.1.0 (from pycaret)\n",
            "  Downloading deprecation-2.1.0-py2.py3-none-any.whl.metadata (4.6 kB)\n",
            "Collecting xxhash (from pycaret)\n",
            "  Downloading xxhash-3.5.0-cp310-cp310-manylinux_2_17_x86_64.manylinux2014_x86_64.whl.metadata (12 kB)\n",
            "Requirement already satisfied: matplotlib<3.8.0 in /usr/local/lib/python3.10/dist-packages (from pycaret) (3.7.1)\n",
            "Collecting scikit-plot>=0.3.7 (from pycaret)\n",
            "  Downloading scikit_plot-0.3.7-py3-none-any.whl.metadata (7.1 kB)\n",
            "Requirement already satisfied: yellowbrick>=1.4 in /usr/local/lib/python3.10/dist-packages (from pycaret) (1.5)\n",
            "Requirement already satisfied: plotly>=5.14.0 in /usr/local/lib/python3.10/dist-packages (from pycaret) (5.15.0)\n",
            "Collecting kaleido>=0.2.1 (from pycaret)\n",
            "  Downloading kaleido-0.2.1-py2.py3-none-manylinux1_x86_64.whl.metadata (15 kB)\n",
            "Collecting schemdraw==0.15 (from pycaret)\n",
            "  Downloading schemdraw-0.15-py3-none-any.whl.metadata (2.2 kB)\n",
            "Collecting plotly-resampler>=0.8.3.1 (from pycaret)\n",
            "  Downloading plotly_resampler-0.10.0-py3-none-any.whl.metadata (13 kB)\n",
            "Requirement already satisfied: statsmodels>=0.12.1 in /usr/local/lib/python3.10/dist-packages (from pycaret) (0.14.3)\n",
            "Collecting sktime==0.26.0 (from pycaret)\n",
            "  Downloading sktime-0.26.0-py3-none-any.whl.metadata (29 kB)\n",
            "Collecting tbats>=1.1.3 (from pycaret)\n",
            "  Downloading tbats-1.1.3-py3-none-any.whl.metadata (3.8 kB)\n",
            "Collecting pmdarima>=2.0.4 (from pycaret)\n",
            "  Downloading pmdarima-2.0.4-cp310-cp310-manylinux_2_17_x86_64.manylinux2014_x86_64.manylinux_2_28_x86_64.whl.metadata (7.8 kB)\n",
            "Collecting wurlitzer (from pycaret)\n",
            "  Downloading wurlitzer-3.1.1-py3-none-any.whl.metadata (2.5 kB)\n",
            "Requirement already satisfied: packaging in /usr/local/lib/python3.10/dist-packages (from sktime==0.26.0->pycaret) (24.1)\n",
            "Collecting scikit-base<0.8.0 (from sktime==0.26.0->pycaret)\n",
            "  Downloading scikit_base-0.7.8-py3-none-any.whl.metadata (8.8 kB)\n",
            "Collecting scikit-learn>1.4.0 (from pycaret)\n",
            "  Downloading scikit_learn-1.4.2-cp310-cp310-manylinux_2_17_x86_64.manylinux2014_x86_64.whl.metadata (11 kB)\n",
            "Requirement already satisfied: patsy>=0.5.1 in /usr/local/lib/python3.10/dist-packages (from category-encoders>=2.4.0->pycaret) (0.5.6)\n",
            "Requirement already satisfied: threadpoolctl>=2.0.0 in /usr/local/lib/python3.10/dist-packages (from imbalanced-learn>=0.12.0->pycaret) (3.5.0)\n",
            "Requirement already satisfied: zipp>=3.20 in /usr/local/lib/python3.10/dist-packages (from importlib-metadata>=4.12.0->pycaret) (3.20.2)\n",
            "Requirement already satisfied: setuptools>=18.5 in /usr/local/lib/python3.10/dist-packages (from ipython>=5.5.0->pycaret) (71.0.4)\n",
            "Collecting jedi>=0.16 (from ipython>=5.5.0->pycaret)\n",
            "  Using cached jedi-0.19.1-py2.py3-none-any.whl.metadata (22 kB)\n",
            "Requirement already satisfied: decorator in /usr/local/lib/python3.10/dist-packages (from ipython>=5.5.0->pycaret) (4.4.2)\n",
            "Requirement already satisfied: pickleshare in /usr/local/lib/python3.10/dist-packages (from ipython>=5.5.0->pycaret) (0.7.5)\n",
            "Requirement already satisfied: traitlets>=4.2 in /usr/local/lib/python3.10/dist-packages (from ipython>=5.5.0->pycaret) (5.7.1)\n",
            "Requirement already satisfied: prompt-toolkit!=3.0.0,!=3.0.1,<3.1.0,>=2.0.0 in /usr/local/lib/python3.10/dist-packages (from ipython>=5.5.0->pycaret) (3.0.47)\n",
            "Requirement already satisfied: pygments in /usr/local/lib/python3.10/dist-packages (from ipython>=5.5.0->pycaret) (2.18.0)\n",
            "Requirement already satisfied: backcall in /usr/local/lib/python3.10/dist-packages (from ipython>=5.5.0->pycaret) (0.2.0)\n",
            "Requirement already satisfied: matplotlib-inline in /usr/local/lib/python3.10/dist-packages (from ipython>=5.5.0->pycaret) (0.1.7)\n",
            "Requirement already satisfied: pexpect>4.3 in /usr/local/lib/python3.10/dist-packages (from ipython>=5.5.0->pycaret) (4.9.0)\n",
            "Requirement already satisfied: ipykernel>=4.5.1 in /usr/local/lib/python3.10/dist-packages (from ipywidgets>=7.6.5->pycaret) (5.5.6)\n",
            "Requirement already satisfied: ipython-genutils~=0.2.0 in /usr/local/lib/python3.10/dist-packages (from ipywidgets>=7.6.5->pycaret) (0.2.0)\n",
            "Requirement already satisfied: widgetsnbextension~=3.6.0 in /usr/local/lib/python3.10/dist-packages (from ipywidgets>=7.6.5->pycaret) (3.6.9)\n",
            "Requirement already satisfied: jupyterlab-widgets>=1.0.0 in /usr/local/lib/python3.10/dist-packages (from ipywidgets>=7.6.5->pycaret) (3.0.13)\n",
            "Requirement already satisfied: contourpy>=1.0.1 in /usr/local/lib/python3.10/dist-packages (from matplotlib<3.8.0->pycaret) (1.3.0)\n",
            "Requirement already satisfied: cycler>=0.10 in /usr/local/lib/python3.10/dist-packages (from matplotlib<3.8.0->pycaret) (0.12.1)\n",
            "Requirement already satisfied: fonttools>=4.22.0 in /usr/local/lib/python3.10/dist-packages (from matplotlib<3.8.0->pycaret) (4.53.1)\n",
            "Requirement already satisfied: kiwisolver>=1.0.1 in /usr/local/lib/python3.10/dist-packages (from matplotlib<3.8.0->pycaret) (1.4.7)\n",
            "Requirement already satisfied: pillow>=6.2.0 in /usr/local/lib/python3.10/dist-packages (from matplotlib<3.8.0->pycaret) (10.4.0)\n",
            "Requirement already satisfied: pyparsing>=2.3.1 in /usr/local/lib/python3.10/dist-packages (from matplotlib<3.8.0->pycaret) (3.1.4)\n",
            "Requirement already satisfied: python-dateutil>=2.7 in /usr/local/lib/python3.10/dist-packages (from matplotlib<3.8.0->pycaret) (2.8.2)\n",
            "Requirement already satisfied: fastjsonschema>=2.15 in /usr/local/lib/python3.10/dist-packages (from nbformat>=4.2.0->pycaret) (2.20.0)\n",
            "Requirement already satisfied: jsonschema>=2.6 in /usr/local/lib/python3.10/dist-packages (from nbformat>=4.2.0->pycaret) (4.23.0)\n",
            "Requirement already satisfied: jupyter-core!=5.0.*,>=4.12 in /usr/local/lib/python3.10/dist-packages (from nbformat>=4.2.0->pycaret) (5.7.2)\n",
            "Requirement already satisfied: llvmlite<0.44,>=0.43.0dev0 in /usr/local/lib/python3.10/dist-packages (from numba>=0.55.0->pycaret) (0.43.0)\n",
            "Requirement already satisfied: pytz>=2020.1 in /usr/local/lib/python3.10/dist-packages (from pandas<2.2.0->pycaret) (2024.2)\n",
            "Requirement already satisfied: tzdata>=2022.1 in /usr/local/lib/python3.10/dist-packages (from pandas<2.2.0->pycaret) (2024.1)\n",
            "Requirement already satisfied: tenacity>=6.2.0 in /usr/local/lib/python3.10/dist-packages (from plotly>=5.14.0->pycaret) (9.0.0)\n",
            "Collecting dash>=2.9.0 (from plotly-resampler>=0.8.3.1->pycaret)\n",
            "  Downloading dash-2.18.1-py3-none-any.whl.metadata (10 kB)\n",
            "Collecting orjson<4.0.0,>=3.8.0 (from plotly-resampler>=0.8.3.1->pycaret)\n",
            "  Downloading orjson-3.10.7-cp310-cp310-manylinux_2_17_x86_64.manylinux2014_x86_64.whl.metadata (50 kB)\n",
            "\u001b[2K     \u001b[90m━━━━━━━━━━━━━━━━━━━━━━━━━━━━━━━━━━━━━━━━\u001b[0m \u001b[32m50.4/50.4 kB\u001b[0m \u001b[31m2.8 MB/s\u001b[0m eta \u001b[36m0:00:00\u001b[0m\n",
            "\u001b[?25hCollecting tsdownsample>=0.1.3 (from plotly-resampler>=0.8.3.1->pycaret)\n",
            "  Downloading tsdownsample-0.1.3-cp310-cp310-manylinux_2_17_x86_64.manylinux2014_x86_64.whl.metadata (7.9 kB)\n",
            "Requirement already satisfied: Cython!=0.29.18,!=0.29.31,>=0.29 in /usr/local/lib/python3.10/dist-packages (from pmdarima>=2.0.4->pycaret) (3.0.11)\n",
            "Requirement already satisfied: urllib3 in /usr/local/lib/python3.10/dist-packages (from pmdarima>=2.0.4->pycaret) (2.0.7)\n",
            "Requirement already satisfied: charset-normalizer<4,>=2 in /usr/local/lib/python3.10/dist-packages (from requests>=2.27.1->pycaret) (3.3.2)\n",
            "Requirement already satisfied: idna<4,>=2.5 in /usr/local/lib/python3.10/dist-packages (from requests>=2.27.1->pycaret) (3.10)\n",
            "Requirement already satisfied: certifi>=2017.4.17 in /usr/local/lib/python3.10/dist-packages (from requests>=2.27.1->pycaret) (2024.8.30)\n",
            "Requirement already satisfied: Flask<3.1,>=1.0.4 in /usr/local/lib/python3.10/dist-packages (from dash>=2.9.0->plotly-resampler>=0.8.3.1->pycaret) (2.2.5)\n",
            "Requirement already satisfied: Werkzeug<3.1 in /usr/local/lib/python3.10/dist-packages (from dash>=2.9.0->plotly-resampler>=0.8.3.1->pycaret) (3.0.4)\n",
            "Collecting dash-html-components==2.0.0 (from dash>=2.9.0->plotly-resampler>=0.8.3.1->pycaret)\n",
            "  Downloading dash_html_components-2.0.0-py3-none-any.whl.metadata (3.8 kB)\n",
            "Collecting dash-core-components==2.0.0 (from dash>=2.9.0->plotly-resampler>=0.8.3.1->pycaret)\n",
            "  Downloading dash_core_components-2.0.0-py3-none-any.whl.metadata (2.9 kB)\n",
            "Collecting dash-table==5.0.0 (from dash>=2.9.0->plotly-resampler>=0.8.3.1->pycaret)\n",
            "  Downloading dash_table-5.0.0-py3-none-any.whl.metadata (2.4 kB)\n",
            "Requirement already satisfied: typing-extensions>=4.1.1 in /usr/local/lib/python3.10/dist-packages (from dash>=2.9.0->plotly-resampler>=0.8.3.1->pycaret) (4.12.2)\n",
            "Collecting retrying (from dash>=2.9.0->plotly-resampler>=0.8.3.1->pycaret)\n",
            "  Downloading retrying-1.3.4-py3-none-any.whl.metadata (6.9 kB)\n",
            "Requirement already satisfied: nest-asyncio in /usr/local/lib/python3.10/dist-packages (from dash>=2.9.0->plotly-resampler>=0.8.3.1->pycaret) (1.6.0)\n",
            "Requirement already satisfied: jupyter-client in /usr/local/lib/python3.10/dist-packages (from ipykernel>=4.5.1->ipywidgets>=7.6.5->pycaret) (6.1.12)\n",
            "Requirement already satisfied: tornado>=4.2 in /usr/local/lib/python3.10/dist-packages (from ipykernel>=4.5.1->ipywidgets>=7.6.5->pycaret) (6.3.3)\n",
            "Requirement already satisfied: parso<0.9.0,>=0.8.3 in /usr/local/lib/python3.10/dist-packages (from jedi>=0.16->ipython>=5.5.0->pycaret) (0.8.4)\n",
            "Requirement already satisfied: attrs>=22.2.0 in /usr/local/lib/python3.10/dist-packages (from jsonschema>=2.6->nbformat>=4.2.0->pycaret) (24.2.0)\n",
            "Requirement already satisfied: jsonschema-specifications>=2023.03.6 in /usr/local/lib/python3.10/dist-packages (from jsonschema>=2.6->nbformat>=4.2.0->pycaret) (2023.12.1)\n",
            "Requirement already satisfied: referencing>=0.28.4 in /usr/local/lib/python3.10/dist-packages (from jsonschema>=2.6->nbformat>=4.2.0->pycaret) (0.35.1)\n",
            "Requirement already satisfied: rpds-py>=0.7.1 in /usr/local/lib/python3.10/dist-packages (from jsonschema>=2.6->nbformat>=4.2.0->pycaret) (0.20.0)\n",
            "Requirement already satisfied: platformdirs>=2.5 in /usr/local/lib/python3.10/dist-packages (from jupyter-core!=5.0.*,>=4.12->nbformat>=4.2.0->pycaret) (4.3.4)\n",
            "Requirement already satisfied: six in /usr/local/lib/python3.10/dist-packages (from patsy>=0.5.1->category-encoders>=2.4.0->pycaret) (1.16.0)\n",
            "Requirement already satisfied: ptyprocess>=0.5 in /usr/local/lib/python3.10/dist-packages (from pexpect>4.3->ipython>=5.5.0->pycaret) (0.7.0)\n",
            "Requirement already satisfied: wcwidth in /usr/local/lib/python3.10/dist-packages (from prompt-toolkit!=3.0.0,!=3.0.1,<3.1.0,>=2.0.0->ipython>=5.5.0->pycaret) (0.2.13)\n",
            "Requirement already satisfied: notebook>=4.4.1 in /usr/local/lib/python3.10/dist-packages (from widgetsnbextension~=3.6.0->ipywidgets>=7.6.5->pycaret) (6.5.5)\n",
            "Requirement already satisfied: itsdangerous>=2.0 in /usr/local/lib/python3.10/dist-packages (from Flask<3.1,>=1.0.4->dash>=2.9.0->plotly-resampler>=0.8.3.1->pycaret) (2.2.0)\n",
            "Requirement already satisfied: click>=8.0 in /usr/local/lib/python3.10/dist-packages (from Flask<3.1,>=1.0.4->dash>=2.9.0->plotly-resampler>=0.8.3.1->pycaret) (8.1.7)\n",
            "Requirement already satisfied: pyzmq<25,>=17 in /usr/local/lib/python3.10/dist-packages (from notebook>=4.4.1->widgetsnbextension~=3.6.0->ipywidgets>=7.6.5->pycaret) (24.0.1)\n",
            "Requirement already satisfied: argon2-cffi in /usr/local/lib/python3.10/dist-packages (from notebook>=4.4.1->widgetsnbextension~=3.6.0->ipywidgets>=7.6.5->pycaret) (23.1.0)\n",
            "Requirement already satisfied: nbconvert>=5 in /usr/local/lib/python3.10/dist-packages (from notebook>=4.4.1->widgetsnbextension~=3.6.0->ipywidgets>=7.6.5->pycaret) (6.5.4)\n",
            "Requirement already satisfied: Send2Trash>=1.8.0 in /usr/local/lib/python3.10/dist-packages (from notebook>=4.4.1->widgetsnbextension~=3.6.0->ipywidgets>=7.6.5->pycaret) (1.8.3)\n",
            "Requirement already satisfied: terminado>=0.8.3 in /usr/local/lib/python3.10/dist-packages (from notebook>=4.4.1->widgetsnbextension~=3.6.0->ipywidgets>=7.6.5->pycaret) (0.18.1)\n",
            "Requirement already satisfied: prometheus-client in /usr/local/lib/python3.10/dist-packages (from notebook>=4.4.1->widgetsnbextension~=3.6.0->ipywidgets>=7.6.5->pycaret) (0.20.0)\n",
            "Requirement already satisfied: nbclassic>=0.4.7 in /usr/local/lib/python3.10/dist-packages (from notebook>=4.4.1->widgetsnbextension~=3.6.0->ipywidgets>=7.6.5->pycaret) (1.1.0)\n",
            "Requirement already satisfied: notebook-shim>=0.2.3 in /usr/local/lib/python3.10/dist-packages (from nbclassic>=0.4.7->notebook>=4.4.1->widgetsnbextension~=3.6.0->ipywidgets>=7.6.5->pycaret) (0.2.4)\n",
            "Requirement already satisfied: lxml in /usr/local/lib/python3.10/dist-packages (from nbconvert>=5->notebook>=4.4.1->widgetsnbextension~=3.6.0->ipywidgets>=7.6.5->pycaret) (4.9.4)\n",
            "Requirement already satisfied: beautifulsoup4 in /usr/local/lib/python3.10/dist-packages (from nbconvert>=5->notebook>=4.4.1->widgetsnbextension~=3.6.0->ipywidgets>=7.6.5->pycaret) (4.12.3)\n",
            "Requirement already satisfied: bleach in /usr/local/lib/python3.10/dist-packages (from nbconvert>=5->notebook>=4.4.1->widgetsnbextension~=3.6.0->ipywidgets>=7.6.5->pycaret) (6.1.0)\n",
            "Requirement already satisfied: defusedxml in /usr/local/lib/python3.10/dist-packages (from nbconvert>=5->notebook>=4.4.1->widgetsnbextension~=3.6.0->ipywidgets>=7.6.5->pycaret) (0.7.1)\n",
            "Requirement already satisfied: entrypoints>=0.2.2 in /usr/local/lib/python3.10/dist-packages (from nbconvert>=5->notebook>=4.4.1->widgetsnbextension~=3.6.0->ipywidgets>=7.6.5->pycaret) (0.4)\n",
            "Requirement already satisfied: jupyterlab-pygments in /usr/local/lib/python3.10/dist-packages (from nbconvert>=5->notebook>=4.4.1->widgetsnbextension~=3.6.0->ipywidgets>=7.6.5->pycaret) (0.3.0)\n",
            "Requirement already satisfied: mistune<2,>=0.8.1 in /usr/local/lib/python3.10/dist-packages (from nbconvert>=5->notebook>=4.4.1->widgetsnbextension~=3.6.0->ipywidgets>=7.6.5->pycaret) (0.8.4)\n",
            "Requirement already satisfied: nbclient>=0.5.0 in /usr/local/lib/python3.10/dist-packages (from nbconvert>=5->notebook>=4.4.1->widgetsnbextension~=3.6.0->ipywidgets>=7.6.5->pycaret) (0.10.0)\n",
            "Requirement already satisfied: pandocfilters>=1.4.1 in /usr/local/lib/python3.10/dist-packages (from nbconvert>=5->notebook>=4.4.1->widgetsnbextension~=3.6.0->ipywidgets>=7.6.5->pycaret) (1.5.1)\n",
            "Requirement already satisfied: tinycss2 in /usr/local/lib/python3.10/dist-packages (from nbconvert>=5->notebook>=4.4.1->widgetsnbextension~=3.6.0->ipywidgets>=7.6.5->pycaret) (1.3.0)\n",
            "Requirement already satisfied: argon2-cffi-bindings in /usr/local/lib/python3.10/dist-packages (from argon2-cffi->notebook>=4.4.1->widgetsnbextension~=3.6.0->ipywidgets>=7.6.5->pycaret) (21.2.0)\n",
            "Requirement already satisfied: jupyter-server<3,>=1.8 in /usr/local/lib/python3.10/dist-packages (from notebook-shim>=0.2.3->nbclassic>=0.4.7->notebook>=4.4.1->widgetsnbextension~=3.6.0->ipywidgets>=7.6.5->pycaret) (1.24.0)\n",
            "Requirement already satisfied: cffi>=1.0.1 in /usr/local/lib/python3.10/dist-packages (from argon2-cffi-bindings->argon2-cffi->notebook>=4.4.1->widgetsnbextension~=3.6.0->ipywidgets>=7.6.5->pycaret) (1.17.1)\n",
            "Requirement already satisfied: soupsieve>1.2 in /usr/local/lib/python3.10/dist-packages (from beautifulsoup4->nbconvert>=5->notebook>=4.4.1->widgetsnbextension~=3.6.0->ipywidgets>=7.6.5->pycaret) (2.6)\n",
            "Requirement already satisfied: webencodings in /usr/local/lib/python3.10/dist-packages (from bleach->nbconvert>=5->notebook>=4.4.1->widgetsnbextension~=3.6.0->ipywidgets>=7.6.5->pycaret) (0.5.1)\n",
            "Requirement already satisfied: pycparser in /usr/local/lib/python3.10/dist-packages (from cffi>=1.0.1->argon2-cffi-bindings->argon2-cffi->notebook>=4.4.1->widgetsnbextension~=3.6.0->ipywidgets>=7.6.5->pycaret) (2.22)\n",
            "Requirement already satisfied: anyio<4,>=3.1.0 in /usr/local/lib/python3.10/dist-packages (from jupyter-server<3,>=1.8->notebook-shim>=0.2.3->nbclassic>=0.4.7->notebook>=4.4.1->widgetsnbextension~=3.6.0->ipywidgets>=7.6.5->pycaret) (3.7.1)\n",
            "Requirement already satisfied: websocket-client in /usr/local/lib/python3.10/dist-packages (from jupyter-server<3,>=1.8->notebook-shim>=0.2.3->nbclassic>=0.4.7->notebook>=4.4.1->widgetsnbextension~=3.6.0->ipywidgets>=7.6.5->pycaret) (1.8.0)\n",
            "Requirement already satisfied: sniffio>=1.1 in /usr/local/lib/python3.10/dist-packages (from anyio<4,>=3.1.0->jupyter-server<3,>=1.8->notebook-shim>=0.2.3->nbclassic>=0.4.7->notebook>=4.4.1->widgetsnbextension~=3.6.0->ipywidgets>=7.6.5->pycaret) (1.3.1)\n",
            "Requirement already satisfied: exceptiongroup in /usr/local/lib/python3.10/dist-packages (from anyio<4,>=3.1.0->jupyter-server<3,>=1.8->notebook-shim>=0.2.3->nbclassic>=0.4.7->notebook>=4.4.1->widgetsnbextension~=3.6.0->ipywidgets>=7.6.5->pycaret) (1.2.2)\n",
            "Downloading pycaret-3.3.2-py3-none-any.whl (486 kB)\n",
            "\u001b[2K   \u001b[90m━━━━━━━━━━━━━━━━━━━━━━━━━━━━━━━━━━━━━━━━\u001b[0m \u001b[32m486.1/486.1 kB\u001b[0m \u001b[31m9.1 MB/s\u001b[0m eta \u001b[36m0:00:00\u001b[0m\n",
            "\u001b[?25hDownloading schemdraw-0.15-py3-none-any.whl (106 kB)\n",
            "\u001b[2K   \u001b[90m━━━━━━━━━━━━━━━━━━━━━━━━━━━━━━━━━━━━━━━━\u001b[0m \u001b[32m106.8/106.8 kB\u001b[0m \u001b[31m5.3 MB/s\u001b[0m eta \u001b[36m0:00:00\u001b[0m\n",
            "\u001b[?25hDownloading sktime-0.26.0-py3-none-any.whl (21.8 MB)\n",
            "\u001b[2K   \u001b[90m━━━━━━━━━━━━━━━━━━━━━━━━━━━━━━━━━━━━━━━━\u001b[0m \u001b[32m21.8/21.8 MB\u001b[0m \u001b[31m24.9 MB/s\u001b[0m eta \u001b[36m0:00:00\u001b[0m\n",
            "\u001b[?25hDownloading category_encoders-2.6.3-py2.py3-none-any.whl (81 kB)\n",
            "\u001b[2K   \u001b[90m━━━━━━━━━━━━━━━━━━━━━━━━━━━━━━━━━━━━━━━━\u001b[0m \u001b[32m81.9/81.9 kB\u001b[0m \u001b[31m5.1 MB/s\u001b[0m eta \u001b[36m0:00:00\u001b[0m\n",
            "\u001b[?25hDownloading deprecation-2.1.0-py2.py3-none-any.whl (11 kB)\n",
            "Downloading joblib-1.3.2-py3-none-any.whl (302 kB)\n",
            "\u001b[2K   \u001b[90m━━━━━━━━━━━━━━━━━━━━━━━━━━━━━━━━━━━━━━━━\u001b[0m \u001b[32m302.2/302.2 kB\u001b[0m \u001b[31m18.2 MB/s\u001b[0m eta \u001b[36m0:00:00\u001b[0m\n",
            "\u001b[?25hDownloading kaleido-0.2.1-py2.py3-none-manylinux1_x86_64.whl (79.9 MB)\n",
            "\u001b[2K   \u001b[90m━━━━━━━━━━━━━━━━━━━━━━━━━━━━━━━━━━━━━━━━\u001b[0m \u001b[32m79.9/79.9 MB\u001b[0m \u001b[31m8.9 MB/s\u001b[0m eta \u001b[36m0:00:00\u001b[0m\n",
            "\u001b[?25hDownloading plotly_resampler-0.10.0-py3-none-any.whl (80 kB)\n",
            "\u001b[2K   \u001b[90m━━━━━━━━━━━━━━━━━━━━━━━━━━━━━━━━━━━━━━━━\u001b[0m \u001b[32m80.7/80.7 kB\u001b[0m \u001b[31m5.6 MB/s\u001b[0m eta \u001b[36m0:00:00\u001b[0m\n",
            "\u001b[?25hDownloading pmdarima-2.0.4-cp310-cp310-manylinux_2_17_x86_64.manylinux2014_x86_64.manylinux_2_28_x86_64.whl (2.1 MB)\n",
            "\u001b[2K   \u001b[90m━━━━━━━━━━━━━━━━━━━━━━━━━━━━━━━━━━━━━━━━\u001b[0m \u001b[32m2.1/2.1 MB\u001b[0m \u001b[31m64.5 MB/s\u001b[0m eta \u001b[36m0:00:00\u001b[0m\n",
            "\u001b[?25hDownloading scikit_learn-1.4.2-cp310-cp310-manylinux_2_17_x86_64.manylinux2014_x86_64.whl (12.1 MB)\n",
            "\u001b[2K   \u001b[90m━━━━━━━━━━━━━━━━━━━━━━━━━━━━━━━━━━━━━━━━\u001b[0m \u001b[32m12.1/12.1 MB\u001b[0m \u001b[31m99.1 MB/s\u001b[0m eta \u001b[36m0:00:00\u001b[0m\n",
            "\u001b[?25hDownloading scikit_plot-0.3.7-py3-none-any.whl (33 kB)\n",
            "Downloading scipy-1.11.4-cp310-cp310-manylinux_2_17_x86_64.manylinux2014_x86_64.whl (36.4 MB)\n",
            "\u001b[2K   \u001b[90m━━━━━━━━━━━━━━━━━━━━━━━━━━━━━━━━━━━━━━━━\u001b[0m \u001b[32m36.4/36.4 MB\u001b[0m \u001b[31m15.5 MB/s\u001b[0m eta \u001b[36m0:00:00\u001b[0m\n",
            "\u001b[?25hDownloading tbats-1.1.3-py3-none-any.whl (44 kB)\n",
            "\u001b[2K   \u001b[90m━━━━━━━━━━━━━━━━━━━━━━━━━━━━━━━━━━━━━━━━\u001b[0m \u001b[32m44.0/44.0 kB\u001b[0m \u001b[31m2.7 MB/s\u001b[0m eta \u001b[36m0:00:00\u001b[0m\n",
            "\u001b[?25hDownloading wurlitzer-3.1.1-py3-none-any.whl (8.6 kB)\n",
            "Downloading xxhash-3.5.0-cp310-cp310-manylinux_2_17_x86_64.manylinux2014_x86_64.whl (194 kB)\n",
            "\u001b[2K   \u001b[90m━━━━━━━━━━━━━━━━━━━━━━━━━━━━━━━━━━━━━━━━\u001b[0m \u001b[32m194.1/194.1 kB\u001b[0m \u001b[31m13.6 MB/s\u001b[0m eta \u001b[36m0:00:00\u001b[0m\n",
            "\u001b[?25hDownloading dash-2.18.1-py3-none-any.whl (7.5 MB)\n",
            "\u001b[2K   \u001b[90m━━━━━━━━━━━━━━━━━━━━━━━━━━━━━━━━━━━━━━━━\u001b[0m \u001b[32m7.5/7.5 MB\u001b[0m \u001b[31m83.5 MB/s\u001b[0m eta \u001b[36m0:00:00\u001b[0m\n",
            "\u001b[?25hDownloading dash_core_components-2.0.0-py3-none-any.whl (3.8 kB)\n",
            "Downloading dash_html_components-2.0.0-py3-none-any.whl (4.1 kB)\n",
            "Downloading dash_table-5.0.0-py3-none-any.whl (3.9 kB)\n",
            "Using cached jedi-0.19.1-py2.py3-none-any.whl (1.6 MB)\n",
            "Downloading orjson-3.10.7-cp310-cp310-manylinux_2_17_x86_64.manylinux2014_x86_64.whl (141 kB)\n",
            "\u001b[2K   \u001b[90m━━━━━━━━━━━━━━━━━━━━━━━━━━━━━━━━━━━━━━━━\u001b[0m \u001b[32m141.9/141.9 kB\u001b[0m \u001b[31m9.8 MB/s\u001b[0m eta \u001b[36m0:00:00\u001b[0m\n",
            "\u001b[?25hDownloading scikit_base-0.7.8-py3-none-any.whl (130 kB)\n",
            "\u001b[2K   \u001b[90m━━━━━━━━━━━━━━━━━━━━━━━━━━━━━━━━━━━━━━━━\u001b[0m \u001b[32m130.1/130.1 kB\u001b[0m \u001b[31m8.9 MB/s\u001b[0m eta \u001b[36m0:00:00\u001b[0m\n",
            "\u001b[?25hDownloading tsdownsample-0.1.3-cp310-cp310-manylinux_2_17_x86_64.manylinux2014_x86_64.whl (2.1 MB)\n",
            "\u001b[2K   \u001b[90m━━━━━━━━━━━━━━━━━━━━━━━━━━━━━━━━━━━━━━━━\u001b[0m \u001b[32m2.1/2.1 MB\u001b[0m \u001b[31m58.7 MB/s\u001b[0m eta \u001b[36m0:00:00\u001b[0m\n",
            "\u001b[?25hDownloading retrying-1.3.4-py3-none-any.whl (11 kB)\n",
            "Building wheels for collected packages: pyod\n",
            "  Building wheel for pyod (setup.py) ... \u001b[?25l\u001b[?25hdone\n",
            "  Created wheel for pyod: filename=pyod-2.0.2-py3-none-any.whl size=198469 sha256=86a4d33bdc7cb40ef9b328d58c6f6fe874740493ca32d4b7f68d6bb60e9ca033\n",
            "  Stored in directory: /root/.cache/pip/wheels/77/c2/20/34d1f15b41b701ba69f42a32304825810d680754d509f91391\n",
            "Successfully built pyod\n",
            "Installing collected packages: kaleido, dash-table, dash-html-components, dash-core-components, xxhash, wurlitzer, tsdownsample, scipy, scikit-base, schemdraw, retrying, orjson, joblib, jedi, deprecation, scikit-learn, sktime, scikit-plot, pyod, dash, pmdarima, plotly-resampler, category-encoders, tbats, pycaret\n",
            "  Attempting uninstall: scipy\n",
            "    Found existing installation: scipy 1.13.1\n",
            "    Uninstalling scipy-1.13.1:\n",
            "      Successfully uninstalled scipy-1.13.1\n",
            "  Attempting uninstall: joblib\n",
            "    Found existing installation: joblib 1.4.2\n",
            "    Uninstalling joblib-1.4.2:\n",
            "      Successfully uninstalled joblib-1.4.2\n",
            "  Attempting uninstall: scikit-learn\n",
            "    Found existing installation: scikit-learn 1.3.2\n",
            "    Uninstalling scikit-learn-1.3.2:\n",
            "      Successfully uninstalled scikit-learn-1.3.2\n",
            "Successfully installed category-encoders-2.6.3 dash-2.18.1 dash-core-components-2.0.0 dash-html-components-2.0.0 dash-table-5.0.0 deprecation-2.1.0 jedi-0.19.1 joblib-1.3.2 kaleido-0.2.1 orjson-3.10.7 plotly-resampler-0.10.0 pmdarima-2.0.4 pycaret-3.3.2 pyod-2.0.2 retrying-1.3.4 schemdraw-0.15 scikit-base-0.7.8 scikit-learn-1.4.2 scikit-plot-0.3.7 scipy-1.11.4 sktime-0.26.0 tbats-1.1.3 tsdownsample-0.1.3 wurlitzer-3.1.1 xxhash-3.5.0\n"
          ]
        }
      ],
      "source": [
        "# Install pycaret if not already installed\n",
        "!pip install pycaret\n",
        "\n"
      ]
    },
    {
      "cell_type": "code",
      "source": [
        "# Importing Libraries\n",
        "from pycaret.clustering import *\n",
        "import pandas as pd\n",
        "\n",
        "# Download dataset from Kaggle and upload it to Colab or local environment\n",
        "# Load Dataset\n",
        "df = pd.read_csv('/content/Mall_Customers.csv')\n"
      ],
      "metadata": {
        "id": "FxLGU4E9mtyB"
      },
      "execution_count": 2,
      "outputs": []
    },
    {
      "cell_type": "code",
      "source": [
        "# Setup PyCaret for clustering\n",
        "cluster = setup(data=df, session_id=123)"
      ],
      "metadata": {
        "colab": {
          "base_uri": "https://localhost:8080/",
          "height": 551
        },
        "id": "CHP9toqMmvVf",
        "outputId": "6a1b2758-696a-41c5-ee0c-c048d2185e15"
      },
      "execution_count": 4,
      "outputs": [
        {
          "output_type": "display_data",
          "data": {
            "text/plain": [
              "<pandas.io.formats.style.Styler at 0x7fc1d4e7dc30>"
            ],
            "text/html": [
              "<style type=\"text/css\">\n",
              "#T_40f35_row5_col1 {\n",
              "  background-color: lightgreen;\n",
              "}\n",
              "</style>\n",
              "<table id=\"T_40f35\" class=\"dataframe\">\n",
              "  <thead>\n",
              "    <tr>\n",
              "      <th class=\"blank level0\" >&nbsp;</th>\n",
              "      <th id=\"T_40f35_level0_col0\" class=\"col_heading level0 col0\" >Description</th>\n",
              "      <th id=\"T_40f35_level0_col1\" class=\"col_heading level0 col1\" >Value</th>\n",
              "    </tr>\n",
              "  </thead>\n",
              "  <tbody>\n",
              "    <tr>\n",
              "      <th id=\"T_40f35_level0_row0\" class=\"row_heading level0 row0\" >0</th>\n",
              "      <td id=\"T_40f35_row0_col0\" class=\"data row0 col0\" >Session id</td>\n",
              "      <td id=\"T_40f35_row0_col1\" class=\"data row0 col1\" >123</td>\n",
              "    </tr>\n",
              "    <tr>\n",
              "      <th id=\"T_40f35_level0_row1\" class=\"row_heading level0 row1\" >1</th>\n",
              "      <td id=\"T_40f35_row1_col0\" class=\"data row1 col0\" >Original data shape</td>\n",
              "      <td id=\"T_40f35_row1_col1\" class=\"data row1 col1\" >(200, 5)</td>\n",
              "    </tr>\n",
              "    <tr>\n",
              "      <th id=\"T_40f35_level0_row2\" class=\"row_heading level0 row2\" >2</th>\n",
              "      <td id=\"T_40f35_row2_col0\" class=\"data row2 col0\" >Transformed data shape</td>\n",
              "      <td id=\"T_40f35_row2_col1\" class=\"data row2 col1\" >(200, 5)</td>\n",
              "    </tr>\n",
              "    <tr>\n",
              "      <th id=\"T_40f35_level0_row3\" class=\"row_heading level0 row3\" >3</th>\n",
              "      <td id=\"T_40f35_row3_col0\" class=\"data row3 col0\" >Numeric features</td>\n",
              "      <td id=\"T_40f35_row3_col1\" class=\"data row3 col1\" >4</td>\n",
              "    </tr>\n",
              "    <tr>\n",
              "      <th id=\"T_40f35_level0_row4\" class=\"row_heading level0 row4\" >4</th>\n",
              "      <td id=\"T_40f35_row4_col0\" class=\"data row4 col0\" >Categorical features</td>\n",
              "      <td id=\"T_40f35_row4_col1\" class=\"data row4 col1\" >1</td>\n",
              "    </tr>\n",
              "    <tr>\n",
              "      <th id=\"T_40f35_level0_row5\" class=\"row_heading level0 row5\" >5</th>\n",
              "      <td id=\"T_40f35_row5_col0\" class=\"data row5 col0\" >Preprocess</td>\n",
              "      <td id=\"T_40f35_row5_col1\" class=\"data row5 col1\" >True</td>\n",
              "    </tr>\n",
              "    <tr>\n",
              "      <th id=\"T_40f35_level0_row6\" class=\"row_heading level0 row6\" >6</th>\n",
              "      <td id=\"T_40f35_row6_col0\" class=\"data row6 col0\" >Imputation type</td>\n",
              "      <td id=\"T_40f35_row6_col1\" class=\"data row6 col1\" >simple</td>\n",
              "    </tr>\n",
              "    <tr>\n",
              "      <th id=\"T_40f35_level0_row7\" class=\"row_heading level0 row7\" >7</th>\n",
              "      <td id=\"T_40f35_row7_col0\" class=\"data row7 col0\" >Numeric imputation</td>\n",
              "      <td id=\"T_40f35_row7_col1\" class=\"data row7 col1\" >mean</td>\n",
              "    </tr>\n",
              "    <tr>\n",
              "      <th id=\"T_40f35_level0_row8\" class=\"row_heading level0 row8\" >8</th>\n",
              "      <td id=\"T_40f35_row8_col0\" class=\"data row8 col0\" >Categorical imputation</td>\n",
              "      <td id=\"T_40f35_row8_col1\" class=\"data row8 col1\" >mode</td>\n",
              "    </tr>\n",
              "    <tr>\n",
              "      <th id=\"T_40f35_level0_row9\" class=\"row_heading level0 row9\" >9</th>\n",
              "      <td id=\"T_40f35_row9_col0\" class=\"data row9 col0\" >Maximum one-hot encoding</td>\n",
              "      <td id=\"T_40f35_row9_col1\" class=\"data row9 col1\" >-1</td>\n",
              "    </tr>\n",
              "    <tr>\n",
              "      <th id=\"T_40f35_level0_row10\" class=\"row_heading level0 row10\" >10</th>\n",
              "      <td id=\"T_40f35_row10_col0\" class=\"data row10 col0\" >Encoding method</td>\n",
              "      <td id=\"T_40f35_row10_col1\" class=\"data row10 col1\" >None</td>\n",
              "    </tr>\n",
              "    <tr>\n",
              "      <th id=\"T_40f35_level0_row11\" class=\"row_heading level0 row11\" >11</th>\n",
              "      <td id=\"T_40f35_row11_col0\" class=\"data row11 col0\" >CPU Jobs</td>\n",
              "      <td id=\"T_40f35_row11_col1\" class=\"data row11 col1\" >-1</td>\n",
              "    </tr>\n",
              "    <tr>\n",
              "      <th id=\"T_40f35_level0_row12\" class=\"row_heading level0 row12\" >12</th>\n",
              "      <td id=\"T_40f35_row12_col0\" class=\"data row12 col0\" >Use GPU</td>\n",
              "      <td id=\"T_40f35_row12_col1\" class=\"data row12 col1\" >False</td>\n",
              "    </tr>\n",
              "    <tr>\n",
              "      <th id=\"T_40f35_level0_row13\" class=\"row_heading level0 row13\" >13</th>\n",
              "      <td id=\"T_40f35_row13_col0\" class=\"data row13 col0\" >Log Experiment</td>\n",
              "      <td id=\"T_40f35_row13_col1\" class=\"data row13 col1\" >False</td>\n",
              "    </tr>\n",
              "    <tr>\n",
              "      <th id=\"T_40f35_level0_row14\" class=\"row_heading level0 row14\" >14</th>\n",
              "      <td id=\"T_40f35_row14_col0\" class=\"data row14 col0\" >Experiment Name</td>\n",
              "      <td id=\"T_40f35_row14_col1\" class=\"data row14 col1\" >cluster-default-name</td>\n",
              "    </tr>\n",
              "    <tr>\n",
              "      <th id=\"T_40f35_level0_row15\" class=\"row_heading level0 row15\" >15</th>\n",
              "      <td id=\"T_40f35_row15_col0\" class=\"data row15 col0\" >USI</td>\n",
              "      <td id=\"T_40f35_row15_col1\" class=\"data row15 col1\" >13fa</td>\n",
              "    </tr>\n",
              "  </tbody>\n",
              "</table>\n"
            ]
          },
          "metadata": {}
        }
      ]
    },
    {
      "cell_type": "code",
      "source": [
        "# Create clustering models\n",
        "best_model = create_model('kmeans')"
      ],
      "metadata": {
        "colab": {
          "base_uri": "https://localhost:8080/",
          "height": 80,
          "referenced_widgets": [
            "c94e2faa416b402b96fc7e9c9cc61206",
            "047757bf8de9447ba4d6be444722cdbd",
            "883c2b83a8ec4929864ebceeb2882424",
            "5a1bb3a00df54bdaaef201fd7ec5d3f6",
            "36086355f952421c90b407e53cab3655",
            "30305434ff1d42369c8c3366d2b59084",
            "c6d8655ddcba4842b759aa8fa9d224d2",
            "f8b348bea89c4d27a29ee899f29faaee",
            "4c704ce73b304bd08b4e050e2e4494f1",
            "38e01c8eb89342ce9b74f116212d88b2",
            "788ef75b36184e099c78c08fb0ac07cb"
          ]
        },
        "id": "TtdFySpymwvY",
        "outputId": "e5cee718-d27c-4186-b634-c4f6a2f9f9f7"
      },
      "execution_count": 5,
      "outputs": [
        {
          "output_type": "display_data",
          "data": {
            "text/plain": [
              "<IPython.core.display.HTML object>"
            ],
            "text/html": []
          },
          "metadata": {}
        },
        {
          "output_type": "display_data",
          "data": {
            "text/plain": [
              "<pandas.io.formats.style.Styler at 0x7fc1d415fcd0>"
            ],
            "text/html": [
              "<style type=\"text/css\">\n",
              "</style>\n",
              "<table id=\"T_29b5d\" class=\"dataframe\">\n",
              "  <thead>\n",
              "    <tr>\n",
              "      <th class=\"blank level0\" >&nbsp;</th>\n",
              "      <th id=\"T_29b5d_level0_col0\" class=\"col_heading level0 col0\" >Silhouette</th>\n",
              "      <th id=\"T_29b5d_level0_col1\" class=\"col_heading level0 col1\" >Calinski-Harabasz</th>\n",
              "      <th id=\"T_29b5d_level0_col2\" class=\"col_heading level0 col2\" >Davies-Bouldin</th>\n",
              "      <th id=\"T_29b5d_level0_col3\" class=\"col_heading level0 col3\" >Homogeneity</th>\n",
              "      <th id=\"T_29b5d_level0_col4\" class=\"col_heading level0 col4\" >Rand Index</th>\n",
              "      <th id=\"T_29b5d_level0_col5\" class=\"col_heading level0 col5\" >Completeness</th>\n",
              "    </tr>\n",
              "  </thead>\n",
              "  <tbody>\n",
              "    <tr>\n",
              "      <th id=\"T_29b5d_level0_row0\" class=\"row_heading level0 row0\" >0</th>\n",
              "      <td id=\"T_29b5d_row0_col0\" class=\"data row0 col0\" >0.4209</td>\n",
              "      <td id=\"T_29b5d_row0_col1\" class=\"data row0 col1\" >260.8046</td>\n",
              "      <td id=\"T_29b5d_row0_col2\" class=\"data row0 col2\" >0.8565</td>\n",
              "      <td id=\"T_29b5d_row0_col3\" class=\"data row0 col3\" >0</td>\n",
              "      <td id=\"T_29b5d_row0_col4\" class=\"data row0 col4\" >0</td>\n",
              "      <td id=\"T_29b5d_row0_col5\" class=\"data row0 col5\" >0</td>\n",
              "    </tr>\n",
              "  </tbody>\n",
              "</table>\n"
            ]
          },
          "metadata": {}
        },
        {
          "output_type": "display_data",
          "data": {
            "text/plain": [
              "Processing:   0%|          | 0/3 [00:00<?, ?it/s]"
            ],
            "application/vnd.jupyter.widget-view+json": {
              "version_major": 2,
              "version_minor": 0,
              "model_id": "c94e2faa416b402b96fc7e9c9cc61206"
            }
          },
          "metadata": {
            "application/vnd.jupyter.widget-view+json": {
              "colab": {
                "custom_widget_manager": {
                  "url": "https://ssl.gstatic.com/colaboratory-static/widgets/colab-cdn-widget-manager/2b70e893a8ba7c0f/manager.min.js"
                }
              }
            }
          }
        },
        {
          "output_type": "display_data",
          "data": {
            "text/plain": [
              "<IPython.core.display.HTML object>"
            ],
            "text/html": []
          },
          "metadata": {}
        }
      ]
    },
    {
      "cell_type": "code",
      "source": [
        "# Assign clusters to data\n",
        "df_clusters = assign_model(best_model)\n"
      ],
      "metadata": {
        "id": "SXMVWnxEmydj"
      },
      "execution_count": 6,
      "outputs": []
    },
    {
      "cell_type": "code",
      "source": [
        "# Plot clusters\n",
        "plot_model(best_model)"
      ],
      "metadata": {
        "colab": {
          "base_uri": "https://localhost:8080/",
          "height": 617
        },
        "id": "2wAH2JJ_mzok",
        "outputId": "42ed5f82-2297-44c5-9508-de9b83513a95"
      },
      "execution_count": 7,
      "outputs": [
        {
          "output_type": "display_data",
          "data": {
            "text/plain": [
              "<IPython.core.display.HTML object>"
            ],
            "text/html": []
          },
          "metadata": {}
        },
        {
          "output_type": "display_data",
          "data": {
            "text/html": [
              "<html>\n",
              "<head><meta charset=\"utf-8\" /></head>\n",
              "<body>\n",
              "    <div>            <script src=\"https://cdnjs.cloudflare.com/ajax/libs/mathjax/2.7.5/MathJax.js?config=TeX-AMS-MML_SVG\"></script><script type=\"text/javascript\">if (window.MathJax && window.MathJax.Hub && window.MathJax.Hub.Config) {window.MathJax.Hub.Config({SVG: {font: \"STIX-Web\"}});}</script>                <script type=\"text/javascript\">window.PlotlyConfig = {MathJaxConfig: 'local'};</script>\n",
              "        <script charset=\"utf-8\" src=\"https://cdn.plot.ly/plotly-2.24.1.min.js\"></script>                <div id=\"39b5aabd-a8b6-44a0-b1cc-592555741693\" class=\"plotly-graph-div\" style=\"height:600px; width:100%;\"></div>            <script type=\"text/javascript\">                                    window.PLOTLYENV=window.PLOTLYENV || {};                                    if (document.getElementById(\"39b5aabd-a8b6-44a0-b1cc-592555741693\")) {                    Plotly.newPlot(                        \"39b5aabd-a8b6-44a0-b1cc-592555741693\",                        [{\"customdata\":[[100],[91],[90],[89],[88],[87],[86],[85],[84],[83],[82],[81],[80],[79],[92],[78],[76],[75],[74],[73],[72],[71],[70],[69],[68],[67],[66],[61],[65],[77],[93],[94],[95],[127],[125],[123],[122],[121],[120],[119],[118],[117],[116],[115],[114],[113],[112],[111],[110],[109],[108],[107],[106],[105],[104],[103],[102],[101],[99],[98],[97],[96],[63],[64]],\"hovertemplate\":\"Cluster=Cluster 0\\u003cbr\\u003ePCA1=%{x}\\u003cbr\\u003ePCA2=%{y}\\u003cbr\\u003eFeature=%{customdata[0]}\\u003cextra\\u003e\\u003c\\u002fextra\\u003e\",\"legendgroup\":\"Cluster 0\",\"marker\":{\"color\":\"#636efa\",\"opacity\":0.5,\"symbol\":\"circle\"},\"mode\":\"markers\",\"name\":\"Cluster 0\",\"orientation\":\"v\",\"showlegend\":true,\"x\":[-0.17411844299547138,-9.448360011635135,-10.723765207798332,-11.449552745004647,-12.733483542934382,-13.819905937011251,-15.995488474888747,-16.67721604173401,-17.82335716138069,-18.878950624341286,-19.52850849128086,-20.57948770950216,-21.50591448621241,-22.199721138493185,-8.335111236208185,-23.23852364903777,-24.942262774011606,-26.095328475518354,-28.586834459753184,-29.546394075198236,-30.8377897138242,-31.798481526476483,-32.950395042198934,-33.70665363716325,-34.98064686037515,-35.733631979389585,-36.43951771710588,-42.145107278517706,-37.6696135988326,-24.147879465612917,-7.136736220264959,-6.2373443964869555,-5.264195868438867,28.326921089506406,26.169878160810327,24.02957450499534,22.19230350606162,21.450974592489754,20.40941267872718,19.39733892729148,17.786655173619334,16.685023090430924,16.07677222013666,15.15639807919631,13.816679669326023,12.765251385007502,11.635660955236798,10.440136303275478,9.494705859269654,8.536747263731096,7.725924446772415,6.768857553926037,5.658439849829046,4.675093263971008,3.8903875111481176,2.7637188814962466,1.8826016511975152,1.0755013762859438,-1.2978650405534742,-2.442834217813851,-3.493012926081913,-4.237283628349657,-39.920737911281726,-38.88494862556995],\"xaxis\":\"x\",\"y\":[-3.1610359602768914,1.9639277686663639,6.57483169196442,-10.73089996608,-8.63445774888412,-3.978140339644363,6.065170429469708,-10.849163515142441,7.54067201633884,15.280700717787953,-5.01151386974566,3.241058428771962,10.155776364283753,-5.554411412116712,4.108722424550057,2.2399090755715587,-6.825812595113159,7.562600921100316,-1.003795240781483,5.803546223651747,9.61667820612782,2.2448120486480887,1.2867101375579544,-13.382206829348307,8.573509326087738,0.8787278913808029,-13.627313716807985,1.197164676063082,4.491062883477499,-1.4838246091906655,3.227781585324012,10.152751141732551,6.373622081869755,15.96333848690678,17.188821754035484,-7.146834375605615,9.890900789333662,-8.211395708132983,-3.907160740043766,9.942377455385616,-6.109014143385747,12.673426202927567,-4.2522629514427335,-2.5406989966109155,-0.37619558061820074,7.875169616499658,-8.181057740961649,4.3289977526539145,8.446439841109582,13.766820996377174,7.625853968232941,6.4834360869699665,3.9184350844777134,-3.2779934031266253,-7.593687093512343,-2.072743646053536,4.491098949707473,5.325474555162329,10.07873027536382,-2.545324652936862,4.963767490997937,-5.189976762172253,4.417585822473869,-5.376238571448551],\"yaxis\":\"y\",\"type\":\"scatter\",\"textposition\":\"top center\"},{\"customdata\":[[1],[60],[28],[27],[26],[25],[24],[23],[22],[21],[19],[18],[17],[16],[15],[14],[13],[12],[11],[10],[9],[8],[7],[6],[5],[4],[3],[2],[62],[29],[30],[20],[32],[59],[58],[57],[31],[55],[54],[53],[52],[51],[50],[49],[48],[47],[46],[56],[44],[43],[42],[41],[40],[39],[38],[37],[36],[35],[33],[45],[34]],\"hovertemplate\":\"Cluster=Cluster 1\\u003cbr\\u003ePCA1=%{x}\\u003cbr\\u003ePCA2=%{y}\\u003cbr\\u003eFeature=%{customdata[0]}\\u003cextra\\u003e\\u003c\\u002fextra\\u003e\",\"legendgroup\":\"Cluster 1\",\"marker\":{\"color\":\"#EF553B\",\"opacity\":0.5,\"symbol\":\"circle\"},\"mode\":\"markers\",\"name\":\"Cluster 1\",\"orientation\":\"v\",\"showlegend\":true,\"x\":[-109.38394055239621,-43.02497493276598,-79.3777412872755,-80.543003453061,-81.02842601742252,-82.54155439403077,-84.15014831652013,-85.6046384852309,-86.34884968571755,-87.57364176209269,-89.94719699391226,-91.24201517828918,-92.4499251095094,-93.40099081414577,-94.8417032552733,-95.2523147837967,-96.77778249695753,-97.4040858300741,-99.07065644264694,-99.38052225667428,-100.9521912189388,-101.42674452873622,-102.99648078384025,-103.77472295525615,-104.98032254935556,-106.00780673923882,-107.37629205986585,-108.20285700252606,-40.93980744873938,-78.28646438591932,-76.90066761064216,-88.47521298507347,-74.74835630552859,-43.75255230485892,-45.76074605278553,-46.541898321939435,-76.34934437174185,-48.80324044880053,-49.668510108910354,-50.45766747759667,-51.7499350623128,-52.81042920723402,-54.500564427587875,-55.40174608625248,-56.26960609120219,-57.26406862366662,-58.36594096939507,-47.898947943061906,-60.259463638383494,-61.43821709453084,-62.24525786766131,-63.77889973873267,-64.56942956716628,-65.90271220645275,-67.69141211738093,-69.04788978870938,-69.8192073782652,-71.34281382040248,-73.25828194538236,-59.67202602687346,-71.55367781211412],\"xaxis\":\"x\",\"y\":[5.478454042666806,7.018734218641029,-12.017644030652868,18.496396328868318,-33.84367421288173,38.07148280555523,-24.65876008267693,44.95910237461452,-26.05511499272896,13.21901896446832,22.945699209235233,-20.434977897617525,13.174128963871166,-32.645222097818966,35.02742823947749,-30.250802686491618,37.89386887419186,-49.15236827793843,40.917872517955246,-24.034607690578905,50.92373824638593,-47.07130349208766,41.32276991220732,-29.801238129014248,7.296747150673699,-30.56269645696178,37.84087172375958,-34.93176488394532,-9.540702164633368,18.33893683235764,-40.06107631019422,-48.107245973782206,-26.8776224992954,-3.8266126056723357,10.668700790641193,2.634399225941622,49.2293707182422,7.252739649949214,-5.281758114528996,-5.881258133400381,-11.272702146872092,0.18231312469160052,5.7587001062190595,5.294115383541575,-0.036517392622757126,-2.5435425980153914,-18.26145692688382,10.462722636243173,-12.770763912189214,15.460958400143864,-44.56513910857456,20.320383490024163,-28.958678825941934,22.399137585613765,-24.748396321702305,32.502969540276766,-34.61961648567697,37.01272639180604,47.65469580374097,23.485409261334382,-46.023155091188706],\"yaxis\":\"y\",\"type\":\"scatter\",\"textposition\":\"top center\"},{\"customdata\":[[172],[170],[168],[158],[164],[162],[160],[174],[156],[166],[176],[186],[180],[182],[184],[188],[190],[192],[194],[198],[196],[154],[178],[152],[200],[136],[130],[140],[132],[144],[128],[142],[134],[126],[138],[124],[148],[150],[146]],\"hovertemplate\":\"Cluster=Cluster 2\\u003cbr\\u003ePCA1=%{x}\\u003cbr\\u003ePCA2=%{y}\\u003cbr\\u003eFeature=%{customdata[0]}\\u003cextra\\u003e\\u003c\\u002fextra\\u003e\",\"legendgroup\":\"Cluster 2\",\"marker\":{\"color\":\"#00cc96\",\"opacity\":0.5,\"symbol\":\"circle\"},\"mode\":\"markers\",\"name\":\"Cluster 2\",\"orientation\":\"v\",\"showlegend\":true,\"x\":[76.29142123722026,74.36217538465718,72.3352367876099,59.84591607732586,66.64167009948864,63.944804446254686,61.638413024099165,78.18362289402131,58.11099657737971,69.950474416445,80.4122550621406,94.10382739677614,86.10200801547577,89.55057446305476,91.81537888084588,96.56423943419256,99.27212341179171,101.01476800355115,107.03267589012324,115.91150547412425,111.65257383819849,56.134039648545404,82.1428205684645,54.382778262280446,122.29775332080312,37.79409013293646,31.361541323907037,41.71198081073432,33.18149610360554,46.29730582212019,29.65728169669906,44.10385657873944,35.435184574790256,27.355764770399883,39.50280137600786,25.168719606645034,50.2703724168855,52.599607427226935,48.62173777274219],\"xaxis\":\"x\",\"y\":[-26.056701473042104,-13.469519941112178,-44.40168330207799,-28.65937881279381,-42.97385899704568,-33.72692652813375,-23.783079138410205,-40.75317758508425,-40.064124519705295,-24.26628089315162,-36.27552558562239,-46.84337402026234,-38.95937364230601,-35.715772838491326,-38.333402254865,-19.054049496434985,-33.73627960494095,-19.073592037344472,-39.018309590422895,-23.729967419978053,-27.964645142225574,-24.895627184276133,-20.408691849814222,-36.35345757602704,-32.85306913043912,-38.77260496808612,-24.09831579021574,-21.794644665979394,-23.858334713204428,-37.046020848054205,-43.1133007128308,-42.9020495842034,-21.786560847366413,-27.68227810007356,-23.473813716985386,-39.48614807288531,-24.366066114726912,-39.45877569889128,-47.677849504721664],\"yaxis\":\"y\",\"type\":\"scatter\",\"textposition\":\"top center\"},{\"customdata\":[[183],[181],[185],[151],[187],[135],[129],[191],[193],[195],[197],[199],[131],[189],[175],[177],[149],[153],[155],[147],[157],[159],[145],[161],[179],[163],[165],[167],[141],[169],[171],[139],[173],[137],[143],[133]],\"hovertemplate\":\"Cluster=Cluster 3\\u003cbr\\u003ePCA1=%{x}\\u003cbr\\u003ePCA2=%{y}\\u003cbr\\u003eFeature=%{customdata[0]}\\u003cextra\\u003e\\u003c\\u002fextra\\u003e\",\"legendgroup\":\"Cluster 3\",\"marker\":{\"color\":\"#ab63fa\",\"opacity\":0.5,\"symbol\":\"circle\"},\"mode\":\"markers\",\"name\":\"Cluster 3\",\"orientation\":\"v\",\"showlegend\":true,\"x\":[90.31673754903514,88.24847219874056,92.73943581865427,52.97324619612521,95.2051911746263,36.381264834229306,29.898974619526975,99.7835718475501,105.59639530825707,110.24944585166915,114.61535822333869,120.9399348806853,31.781830408006225,97.87672051707568,78.88384556028386,80.6882589636168,51.23307457036242,54.812744901955455,56.59431471710252,49.01084648186907,58.379255630440646,60.22266569329812,47.159951821713356,62.55368410902395,84.54187787981061,65.2131146094358,68.62936848483523,70.87017736063117,42.45744158727144,73.18544582840927,74.89495758143391,40.480153203158146,76.72423847285218,38.079231331152336,45.09462826011464,34.310877961794084],\"xaxis\":\"x\",\"y\":[36.61238137094191,17.981067609291138,12.123474505597178,33.6582167974962,29.733806321379628,39.93230890571614,43.006292062373305,26.148383156515372,40.605522107837565,36.09918799463512,24.0178246897421,30.85988866667079,42.206209431290155,33.58549539260472,39.817698219357545,39.26111445694663,26.713144916681866,30.977361941015626,35.56964037304552,16.28765168055745,47.88194869465707,47.203011947210165,34.35065322576291,19.184704289984637,40.512937906995134,39.90791456189977,26.63328370757473,30.652683896207254,48.47729964818102,22.478610956603294,37.033922053121216,34.8647611903762,39.04488468165186,43.508441150567656,7.770787219815687,12.838692201300653],\"yaxis\":\"y\",\"type\":\"scatter\",\"textposition\":\"top center\"}],                        {\"template\":{\"data\":{\"histogram2dcontour\":[{\"type\":\"histogram2dcontour\",\"colorbar\":{\"outlinewidth\":0,\"ticks\":\"\"},\"colorscale\":[[0.0,\"#0d0887\"],[0.1111111111111111,\"#46039f\"],[0.2222222222222222,\"#7201a8\"],[0.3333333333333333,\"#9c179e\"],[0.4444444444444444,\"#bd3786\"],[0.5555555555555556,\"#d8576b\"],[0.6666666666666666,\"#ed7953\"],[0.7777777777777778,\"#fb9f3a\"],[0.8888888888888888,\"#fdca26\"],[1.0,\"#f0f921\"]]}],\"choropleth\":[{\"type\":\"choropleth\",\"colorbar\":{\"outlinewidth\":0,\"ticks\":\"\"}}],\"histogram2d\":[{\"type\":\"histogram2d\",\"colorbar\":{\"outlinewidth\":0,\"ticks\":\"\"},\"colorscale\":[[0.0,\"#0d0887\"],[0.1111111111111111,\"#46039f\"],[0.2222222222222222,\"#7201a8\"],[0.3333333333333333,\"#9c179e\"],[0.4444444444444444,\"#bd3786\"],[0.5555555555555556,\"#d8576b\"],[0.6666666666666666,\"#ed7953\"],[0.7777777777777778,\"#fb9f3a\"],[0.8888888888888888,\"#fdca26\"],[1.0,\"#f0f921\"]]}],\"heatmap\":[{\"type\":\"heatmap\",\"colorbar\":{\"outlinewidth\":0,\"ticks\":\"\"},\"colorscale\":[[0.0,\"#0d0887\"],[0.1111111111111111,\"#46039f\"],[0.2222222222222222,\"#7201a8\"],[0.3333333333333333,\"#9c179e\"],[0.4444444444444444,\"#bd3786\"],[0.5555555555555556,\"#d8576b\"],[0.6666666666666666,\"#ed7953\"],[0.7777777777777778,\"#fb9f3a\"],[0.8888888888888888,\"#fdca26\"],[1.0,\"#f0f921\"]]}],\"heatmapgl\":[{\"type\":\"heatmapgl\",\"colorbar\":{\"outlinewidth\":0,\"ticks\":\"\"},\"colorscale\":[[0.0,\"#0d0887\"],[0.1111111111111111,\"#46039f\"],[0.2222222222222222,\"#7201a8\"],[0.3333333333333333,\"#9c179e\"],[0.4444444444444444,\"#bd3786\"],[0.5555555555555556,\"#d8576b\"],[0.6666666666666666,\"#ed7953\"],[0.7777777777777778,\"#fb9f3a\"],[0.8888888888888888,\"#fdca26\"],[1.0,\"#f0f921\"]]}],\"contourcarpet\":[{\"type\":\"contourcarpet\",\"colorbar\":{\"outlinewidth\":0,\"ticks\":\"\"}}],\"contour\":[{\"type\":\"contour\",\"colorbar\":{\"outlinewidth\":0,\"ticks\":\"\"},\"colorscale\":[[0.0,\"#0d0887\"],[0.1111111111111111,\"#46039f\"],[0.2222222222222222,\"#7201a8\"],[0.3333333333333333,\"#9c179e\"],[0.4444444444444444,\"#bd3786\"],[0.5555555555555556,\"#d8576b\"],[0.6666666666666666,\"#ed7953\"],[0.7777777777777778,\"#fb9f3a\"],[0.8888888888888888,\"#fdca26\"],[1.0,\"#f0f921\"]]}],\"surface\":[{\"type\":\"surface\",\"colorbar\":{\"outlinewidth\":0,\"ticks\":\"\"},\"colorscale\":[[0.0,\"#0d0887\"],[0.1111111111111111,\"#46039f\"],[0.2222222222222222,\"#7201a8\"],[0.3333333333333333,\"#9c179e\"],[0.4444444444444444,\"#bd3786\"],[0.5555555555555556,\"#d8576b\"],[0.6666666666666666,\"#ed7953\"],[0.7777777777777778,\"#fb9f3a\"],[0.8888888888888888,\"#fdca26\"],[1.0,\"#f0f921\"]]}],\"mesh3d\":[{\"type\":\"mesh3d\",\"colorbar\":{\"outlinewidth\":0,\"ticks\":\"\"}}],\"scatter\":[{\"fillpattern\":{\"fillmode\":\"overlay\",\"size\":10,\"solidity\":0.2},\"type\":\"scatter\"}],\"parcoords\":[{\"type\":\"parcoords\",\"line\":{\"colorbar\":{\"outlinewidth\":0,\"ticks\":\"\"}}}],\"scatterpolargl\":[{\"type\":\"scatterpolargl\",\"marker\":{\"colorbar\":{\"outlinewidth\":0,\"ticks\":\"\"}}}],\"bar\":[{\"error_x\":{\"color\":\"#2a3f5f\"},\"error_y\":{\"color\":\"#2a3f5f\"},\"marker\":{\"line\":{\"color\":\"#E5ECF6\",\"width\":0.5},\"pattern\":{\"fillmode\":\"overlay\",\"size\":10,\"solidity\":0.2}},\"type\":\"bar\"}],\"scattergeo\":[{\"type\":\"scattergeo\",\"marker\":{\"colorbar\":{\"outlinewidth\":0,\"ticks\":\"\"}}}],\"scatterpolar\":[{\"type\":\"scatterpolar\",\"marker\":{\"colorbar\":{\"outlinewidth\":0,\"ticks\":\"\"}}}],\"histogram\":[{\"marker\":{\"pattern\":{\"fillmode\":\"overlay\",\"size\":10,\"solidity\":0.2}},\"type\":\"histogram\"}],\"scattergl\":[{\"type\":\"scattergl\",\"marker\":{\"colorbar\":{\"outlinewidth\":0,\"ticks\":\"\"}}}],\"scatter3d\":[{\"type\":\"scatter3d\",\"line\":{\"colorbar\":{\"outlinewidth\":0,\"ticks\":\"\"}},\"marker\":{\"colorbar\":{\"outlinewidth\":0,\"ticks\":\"\"}}}],\"scattermapbox\":[{\"type\":\"scattermapbox\",\"marker\":{\"colorbar\":{\"outlinewidth\":0,\"ticks\":\"\"}}}],\"scatterternary\":[{\"type\":\"scatterternary\",\"marker\":{\"colorbar\":{\"outlinewidth\":0,\"ticks\":\"\"}}}],\"scattercarpet\":[{\"type\":\"scattercarpet\",\"marker\":{\"colorbar\":{\"outlinewidth\":0,\"ticks\":\"\"}}}],\"carpet\":[{\"aaxis\":{\"endlinecolor\":\"#2a3f5f\",\"gridcolor\":\"white\",\"linecolor\":\"white\",\"minorgridcolor\":\"white\",\"startlinecolor\":\"#2a3f5f\"},\"baxis\":{\"endlinecolor\":\"#2a3f5f\",\"gridcolor\":\"white\",\"linecolor\":\"white\",\"minorgridcolor\":\"white\",\"startlinecolor\":\"#2a3f5f\"},\"type\":\"carpet\"}],\"table\":[{\"cells\":{\"fill\":{\"color\":\"#EBF0F8\"},\"line\":{\"color\":\"white\"}},\"header\":{\"fill\":{\"color\":\"#C8D4E3\"},\"line\":{\"color\":\"white\"}},\"type\":\"table\"}],\"barpolar\":[{\"marker\":{\"line\":{\"color\":\"#E5ECF6\",\"width\":0.5},\"pattern\":{\"fillmode\":\"overlay\",\"size\":10,\"solidity\":0.2}},\"type\":\"barpolar\"}],\"pie\":[{\"automargin\":true,\"type\":\"pie\"}]},\"layout\":{\"autotypenumbers\":\"strict\",\"colorway\":[\"#636efa\",\"#EF553B\",\"#00cc96\",\"#ab63fa\",\"#FFA15A\",\"#19d3f3\",\"#FF6692\",\"#B6E880\",\"#FF97FF\",\"#FECB52\"],\"font\":{\"color\":\"#2a3f5f\"},\"hovermode\":\"closest\",\"hoverlabel\":{\"align\":\"left\"},\"paper_bgcolor\":\"white\",\"plot_bgcolor\":\"#E5ECF6\",\"polar\":{\"bgcolor\":\"#E5ECF6\",\"angularaxis\":{\"gridcolor\":\"white\",\"linecolor\":\"white\",\"ticks\":\"\"},\"radialaxis\":{\"gridcolor\":\"white\",\"linecolor\":\"white\",\"ticks\":\"\"}},\"ternary\":{\"bgcolor\":\"#E5ECF6\",\"aaxis\":{\"gridcolor\":\"white\",\"linecolor\":\"white\",\"ticks\":\"\"},\"baxis\":{\"gridcolor\":\"white\",\"linecolor\":\"white\",\"ticks\":\"\"},\"caxis\":{\"gridcolor\":\"white\",\"linecolor\":\"white\",\"ticks\":\"\"}},\"coloraxis\":{\"colorbar\":{\"outlinewidth\":0,\"ticks\":\"\"}},\"colorscale\":{\"sequential\":[[0.0,\"#0d0887\"],[0.1111111111111111,\"#46039f\"],[0.2222222222222222,\"#7201a8\"],[0.3333333333333333,\"#9c179e\"],[0.4444444444444444,\"#bd3786\"],[0.5555555555555556,\"#d8576b\"],[0.6666666666666666,\"#ed7953\"],[0.7777777777777778,\"#fb9f3a\"],[0.8888888888888888,\"#fdca26\"],[1.0,\"#f0f921\"]],\"sequentialminus\":[[0.0,\"#0d0887\"],[0.1111111111111111,\"#46039f\"],[0.2222222222222222,\"#7201a8\"],[0.3333333333333333,\"#9c179e\"],[0.4444444444444444,\"#bd3786\"],[0.5555555555555556,\"#d8576b\"],[0.6666666666666666,\"#ed7953\"],[0.7777777777777778,\"#fb9f3a\"],[0.8888888888888888,\"#fdca26\"],[1.0,\"#f0f921\"]],\"diverging\":[[0,\"#8e0152\"],[0.1,\"#c51b7d\"],[0.2,\"#de77ae\"],[0.3,\"#f1b6da\"],[0.4,\"#fde0ef\"],[0.5,\"#f7f7f7\"],[0.6,\"#e6f5d0\"],[0.7,\"#b8e186\"],[0.8,\"#7fbc41\"],[0.9,\"#4d9221\"],[1,\"#276419\"]]},\"xaxis\":{\"gridcolor\":\"white\",\"linecolor\":\"white\",\"ticks\":\"\",\"title\":{\"standoff\":15},\"zerolinecolor\":\"white\",\"automargin\":true,\"zerolinewidth\":2},\"yaxis\":{\"gridcolor\":\"white\",\"linecolor\":\"white\",\"ticks\":\"\",\"title\":{\"standoff\":15},\"zerolinecolor\":\"white\",\"automargin\":true,\"zerolinewidth\":2},\"scene\":{\"xaxis\":{\"backgroundcolor\":\"#E5ECF6\",\"gridcolor\":\"white\",\"linecolor\":\"white\",\"showbackground\":true,\"ticks\":\"\",\"zerolinecolor\":\"white\",\"gridwidth\":2},\"yaxis\":{\"backgroundcolor\":\"#E5ECF6\",\"gridcolor\":\"white\",\"linecolor\":\"white\",\"showbackground\":true,\"ticks\":\"\",\"zerolinecolor\":\"white\",\"gridwidth\":2},\"zaxis\":{\"backgroundcolor\":\"#E5ECF6\",\"gridcolor\":\"white\",\"linecolor\":\"white\",\"showbackground\":true,\"ticks\":\"\",\"zerolinecolor\":\"white\",\"gridwidth\":2}},\"shapedefaults\":{\"line\":{\"color\":\"#2a3f5f\"}},\"annotationdefaults\":{\"arrowcolor\":\"#2a3f5f\",\"arrowhead\":0,\"arrowwidth\":1},\"geo\":{\"bgcolor\":\"white\",\"landcolor\":\"#E5ECF6\",\"subunitcolor\":\"white\",\"showland\":true,\"showlakes\":true,\"lakecolor\":\"white\"},\"title\":{\"x\":0.05},\"mapbox\":{\"style\":\"light\"}}},\"xaxis\":{\"anchor\":\"y\",\"domain\":[0.0,1.0],\"title\":{\"text\":\"PCA1\"}},\"yaxis\":{\"anchor\":\"x\",\"domain\":[0.0,1.0],\"title\":{\"text\":\"PCA2\"}},\"legend\":{\"title\":{\"text\":\"Cluster\"},\"tracegroupgap\":0},\"margin\":{\"t\":60},\"plot_bgcolor\":\"rgb(240,240,240)\",\"title\":{\"text\":\"2D Cluster PCA Plot\"},\"height\":600},                        {\"responsive\": true}                    ).then(function(){\n",
              "                            \n",
              "var gd = document.getElementById('39b5aabd-a8b6-44a0-b1cc-592555741693');\n",
              "var x = new MutationObserver(function (mutations, observer) {{\n",
              "        var display = window.getComputedStyle(gd).display;\n",
              "        if (!display || display === 'none') {{\n",
              "            console.log([gd, 'removed!']);\n",
              "            Plotly.purge(gd);\n",
              "            observer.disconnect();\n",
              "        }}\n",
              "}});\n",
              "\n",
              "// Listen for the removal of the full notebook cells\n",
              "var notebookContainer = gd.closest('#notebook-container');\n",
              "if (notebookContainer) {{\n",
              "    x.observe(notebookContainer, {childList: true});\n",
              "}}\n",
              "\n",
              "// Listen for the clearing of the current output cell\n",
              "var outputEl = gd.closest('.output');\n",
              "if (outputEl) {{\n",
              "    x.observe(outputEl, {childList: true});\n",
              "}}\n",
              "\n",
              "                        })                };                            </script>        </div>\n",
              "</body>\n",
              "</html>"
            ]
          },
          "metadata": {}
        }
      ]
    },
    {
      "cell_type": "code",
      "source": [
        "# Evaluate Clusters\n",
        "evaluate_model(best_model)"
      ],
      "metadata": {
        "colab": {
          "base_uri": "https://localhost:8080/",
          "height": 169,
          "referenced_widgets": [
            "59acf345d88d4e5eb0626850e89bff53",
            "e7de815b25294388bca5379f37b917cd",
            "50b09895ad694c5f8984b66e3886b28f",
            "a6771c86d7774f62ae07fc767ffb513d",
            "692ad99594ee44f2af423be287533415",
            "14856f9a06644f298b59f49862b952c8",
            "e717d6e8752e4f1c92707ea471d98724"
          ]
        },
        "id": "KUWYqCG5m04A",
        "outputId": "98c2cf5e-62ef-430b-ed9d-25d8e7be0419"
      },
      "execution_count": 8,
      "outputs": [
        {
          "output_type": "display_data",
          "data": {
            "text/plain": [
              "interactive(children=(ToggleButtons(description='Plot Type:', icons=('',), options=(('Pipeline Plot', 'pipelin…"
            ],
            "application/vnd.jupyter.widget-view+json": {
              "version_major": 2,
              "version_minor": 0,
              "model_id": "59acf345d88d4e5eb0626850e89bff53"
            }
          },
          "metadata": {
            "application/vnd.jupyter.widget-view+json": {
              "colab": {
                "custom_widget_manager": {
                  "url": "https://ssl.gstatic.com/colaboratory-static/widgets/colab-cdn-widget-manager/2b70e893a8ba7c0f/manager.min.js"
                }
              }
            }
          }
        }
      ]
    }
  ]
}