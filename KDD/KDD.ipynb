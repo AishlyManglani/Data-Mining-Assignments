{
  "nbformat": 4,
  "nbformat_minor": 0,
  "metadata": {
    "colab": {
      "provenance": [],
      "authorship_tag": "ABX9TyNj8EyGyhkYzvoQnmfx7TEj",
      "include_colab_link": true
    },
    "kernelspec": {
      "name": "python3",
      "display_name": "Python 3"
    },
    "language_info": {
      "name": "python"
    }
  },
  "cells": [
    {
      "cell_type": "markdown",
      "metadata": {
        "id": "view-in-github",
        "colab_type": "text"
      },
      "source": [
        "<a href=\"https://colab.research.google.com/github/AishlyManglani/Data-Mining-Assignments/blob/main/KDD/KDD.ipynb\" target=\"_parent\"><img src=\"https://colab.research.google.com/assets/colab-badge.svg\" alt=\"Open In Colab\"/></a>"
      ]
    },
    {
      "cell_type": "code",
      "execution_count": 1,
      "metadata": {
        "colab": {
          "base_uri": "https://localhost:8080/"
        },
        "id": "ckhQyDpBg8_X",
        "outputId": "198f6b05-1171-4f8a-e61c-f44d02320286"
      },
      "outputs": [
        {
          "output_type": "stream",
          "name": "stdout",
          "text": [
            "   id  age     sex    dataset               cp  trestbps   chol    fbs  \\\n",
            "0   1   63    Male  Cleveland   typical angina     145.0  233.0   True   \n",
            "1   2   67    Male  Cleveland     asymptomatic     160.0  286.0  False   \n",
            "2   3   67    Male  Cleveland     asymptomatic     120.0  229.0  False   \n",
            "3   4   37    Male  Cleveland      non-anginal     130.0  250.0  False   \n",
            "4   5   41  Female  Cleveland  atypical angina     130.0  204.0  False   \n",
            "\n",
            "          restecg  thalch  exang  oldpeak        slope   ca  \\\n",
            "0  lv hypertrophy   150.0  False      2.3  downsloping  0.0   \n",
            "1  lv hypertrophy   108.0   True      1.5         flat  3.0   \n",
            "2  lv hypertrophy   129.0   True      2.6         flat  2.0   \n",
            "3          normal   187.0  False      3.5  downsloping  0.0   \n",
            "4  lv hypertrophy   172.0  False      1.4    upsloping  0.0   \n",
            "\n",
            "                thal  num  \n",
            "0       fixed defect    0  \n",
            "1             normal    2  \n",
            "2  reversable defect    1  \n",
            "3             normal    0  \n",
            "4             normal    0  \n"
          ]
        }
      ],
      "source": [
        "import pandas as pd\n",
        "\n",
        "# Load the dataset\n",
        "url = '/content/heart_disease_uci.csv'\n",
        "heart_data = pd.read_csv(url)\n",
        "\n",
        "# Display the first few rows of the dataset\n",
        "print(heart_data.head())\n"
      ]
    },
    {
      "cell_type": "code",
      "source": [
        "# Check for missing values\n",
        "print(heart_data.isnull().sum())\n",
        "\n",
        "# As there are no missing values in this dataset, we can proceed to conversion\n",
        "# Check data types\n",
        "print(heart_data.dtypes)\n",
        "\n",
        "# Convert 'cp', 'restecg', 'slope', 'thal' into categorical types if needed\n",
        "heart_data['cp'] = heart_data['cp'].astype('category')\n",
        "heart_data['restecg'] = heart_data['restecg'].astype('category')\n",
        "heart_data['slope'] = heart_data['slope'].astype('category')\n",
        "heart_data['thal'] = heart_data['thal'].astype('category')\n",
        "\n",
        "# Display the cleaned data types\n",
        "print(heart_data.dtypes)\n"
      ],
      "metadata": {
        "colab": {
          "base_uri": "https://localhost:8080/"
        },
        "id": "wihhzMJQhokx",
        "outputId": "cbdad204-23fe-4359-cce3-662a9c0ee6e7"
      },
      "execution_count": 2,
      "outputs": [
        {
          "output_type": "stream",
          "name": "stdout",
          "text": [
            "id            0\n",
            "age           0\n",
            "sex           0\n",
            "dataset       0\n",
            "cp            0\n",
            "trestbps     59\n",
            "chol         30\n",
            "fbs          90\n",
            "restecg       2\n",
            "thalch       55\n",
            "exang        55\n",
            "oldpeak      62\n",
            "slope       309\n",
            "ca          611\n",
            "thal        486\n",
            "num           0\n",
            "dtype: int64\n",
            "id            int64\n",
            "age           int64\n",
            "sex          object\n",
            "dataset      object\n",
            "cp           object\n",
            "trestbps    float64\n",
            "chol        float64\n",
            "fbs          object\n",
            "restecg      object\n",
            "thalch      float64\n",
            "exang        object\n",
            "oldpeak     float64\n",
            "slope        object\n",
            "ca          float64\n",
            "thal         object\n",
            "num           int64\n",
            "dtype: object\n",
            "id             int64\n",
            "age            int64\n",
            "sex           object\n",
            "dataset       object\n",
            "cp          category\n",
            "trestbps     float64\n",
            "chol         float64\n",
            "fbs           object\n",
            "restecg     category\n",
            "thalch       float64\n",
            "exang         object\n",
            "oldpeak      float64\n",
            "slope       category\n",
            "ca           float64\n",
            "thal        category\n",
            "num            int64\n",
            "dtype: object\n"
          ]
        }
      ]
    },
    {
      "cell_type": "code",
      "source": [
        "from sklearn.preprocessing import StandardScaler\n",
        "\n",
        "# Normalize the numerical features\n",
        "numerical_cols = ['age', 'trestbps', 'chol', 'thalch', 'oldpeak']\n",
        "scaler = StandardScaler()\n",
        "heart_data[numerical_cols] = scaler.fit_transform(heart_data[numerical_cols])\n",
        "\n",
        "print(heart_data.head())\n"
      ],
      "metadata": {
        "colab": {
          "base_uri": "https://localhost:8080/"
        },
        "id": "rvj2g5qZhraw",
        "outputId": "cdceebf6-8249-4b63-e691-a00629272567"
      },
      "execution_count": 4,
      "outputs": [
        {
          "output_type": "stream",
          "name": "stdout",
          "text": [
            "   id       age     sex    dataset               cp  trestbps      chol  \\\n",
            "0   1  1.007386    Male  Cleveland   typical angina  0.675287  0.305908   \n",
            "1   2  1.432034    Male  Cleveland     asymptomatic  1.462483  0.784599   \n",
            "2   3  1.432034    Male  Cleveland     asymptomatic -0.636705  0.269780   \n",
            "3   4 -1.752828    Male  Cleveland      non-anginal -0.111908  0.459450   \n",
            "4   5 -1.328180  Female  Cleveland  atypical angina -0.111908  0.043982   \n",
            "\n",
            "     fbs         restecg    thalch  exang   oldpeak        slope   ca  \\\n",
            "0   True  lv hypertrophy  0.480653  False  1.303159  downsloping  0.0   \n",
            "1  False  lv hypertrophy -1.140262   True  0.569611         flat  3.0   \n",
            "2  False  lv hypertrophy -0.329805   True  1.578239         flat  2.0   \n",
            "3  False          normal  1.908602  False  2.403480  downsloping  0.0   \n",
            "4  False  lv hypertrophy  1.329704  False  0.477918    upsloping  0.0   \n",
            "\n",
            "                thal  num  \n",
            "0       fixed defect    0  \n",
            "1             normal    2  \n",
            "2  reversable defect    1  \n",
            "3             normal    0  \n",
            "4             normal    0  \n"
          ]
        }
      ]
    },
    {
      "cell_type": "code",
      "source": [
        "from sklearn.model_selection import train_test_split\n",
        "from sklearn.ensemble import RandomForestClassifier\n",
        "from sklearn.metrics import accuracy_score, classification_report\n",
        "\n",
        "# Split the data into training and test sets\n",
        "X = heart_data.drop(['id', 'dataset', 'num'], axis=1)  # Dropping columns that are not features\n",
        "y = heart_data['num']                                   # Using 'num' as the target variable\n",
        "\n",
        "# Convert categorical columns to numeric if necessary\n",
        "X = pd.get_dummies(X, drop_first=True)  # One-hot encoding for categorical variables\n",
        "\n",
        "# Split the data into training and testing sets\n",
        "X_train, X_test, y_train, y_test = train_test_split(X, y, test_size=0.2, random_state=42)\n",
        "\n",
        "# Initialize and train the model\n",
        "model = RandomForestClassifier(n_estimators=100, random_state=42)\n",
        "model.fit(X_train, y_train)\n",
        "\n",
        "# Make predictions\n",
        "y_pred = model.predict(X_test)\n",
        "\n",
        "# Evaluate the model\n",
        "print(\"Accuracy:\", accuracy_score(y_test, y_pred))\n",
        "print(classification_report(y_test, y_pred))\n",
        "\n"
      ],
      "metadata": {
        "colab": {
          "base_uri": "https://localhost:8080/"
        },
        "id": "KWlAAX0dhxsI",
        "outputId": "70d35c18-4c3b-4e08-e736-fbad0ee05d23"
      },
      "execution_count": 9,
      "outputs": [
        {
          "output_type": "stream",
          "name": "stdout",
          "text": [
            "Accuracy: 0.5978260869565217\n",
            "              precision    recall  f1-score   support\n",
            "\n",
            "           0       0.71      0.91      0.80        75\n",
            "           1       0.54      0.61      0.57        54\n",
            "           2       0.33      0.16      0.22        25\n",
            "           3       0.36      0.19      0.25        26\n",
            "           4       0.00      0.00      0.00         4\n",
            "\n",
            "    accuracy                           0.60       184\n",
            "   macro avg       0.39      0.37      0.37       184\n",
            "weighted avg       0.54      0.60      0.56       184\n",
            "\n"
          ]
        }
      ]
    },
    {
      "cell_type": "code",
      "source": [
        "import matplotlib.pyplot as plt\n",
        "import seaborn as sns\n",
        "\n",
        "# Feature importance\n",
        "feature_importance = model.feature_importances_\n",
        "features = X.columns\n",
        "importance_df = pd.DataFrame({'Feature': features, 'Importance': feature_importance})\n",
        "\n",
        "# Sort the values\n",
        "importance_df = importance_df.sort_values(by='Importance', ascending=False)\n",
        "\n",
        "# Plotting the feature importance\n",
        "plt.figure(figsize=(10, 6))\n",
        "sns.barplot(x='Importance', y='Feature', data=importance_df)\n",
        "plt.title('Feature Importance')\n",
        "plt.show()\n"
      ],
      "metadata": {
        "colab": {
          "base_uri": "https://localhost:8080/",
          "height": 564
        },
        "id": "skyxDrK3itGf",
        "outputId": "a2432f61-3153-419f-b00f-39c68dc7fb45"
      },
      "execution_count": 10,
      "outputs": [
        {
          "output_type": "display_data",
          "data": {
            "text/plain": [
              "<Figure size 1000x600 with 1 Axes>"
            ],
            "image/png": "[encoded data removed]"
          },
          "metadata": {}
        }
      ]
    },
    {
      "cell_type": "code",
      "source": [
        "# Display the importance of features in a tabular format\n",
        "print(importance_df)\n",
        "\n",
        "# You can save your model or results to a file for later use\n",
        "import joblib\n",
        "joblib.dump(model, 'heart_disease_rf_model.pkl')\n"
      ],
      "metadata": {
        "colab": {
          "base_uri": "https://localhost:8080/"
        },
        "id": "5SSQR2pPiu8Q",
        "outputId": "37d591fd-b8e5-4970-c40f-7912c693bf96"
      },
      "execution_count": 11,
      "outputs": [
        {
          "output_type": "stream",
          "name": "stdout",
          "text": [
            "                     Feature  Importance\n",
            "0                        age    0.135790\n",
            "2                       chol    0.132126\n",
            "3                     thalch    0.132070\n",
            "4                    oldpeak    0.112822\n",
            "1                   trestbps    0.104173\n",
            "13                exang_True    0.055080\n",
            "5                         ca    0.051064\n",
            "7         cp_atypical angina    0.036850\n",
            "14                slope_flat    0.033747\n",
            "6                   sex_Male    0.030023\n",
            "17    thal_reversable defect    0.028724\n",
            "8             cp_non-anginal    0.028071\n",
            "11            restecg_normal    0.025184\n",
            "16               thal_normal    0.024575\n",
            "10                  fbs_True    0.021257\n",
            "12  restecg_st-t abnormality    0.020105\n",
            "15           slope_upsloping    0.018526\n",
            "9          cp_typical angina    0.009814\n"
          ]
        },
        {
          "output_type": "execute_result",
          "data": {
            "text/plain": [
              "['heart_disease_rf_model.pkl']"
            ]
          },
          "metadata": {},
          "execution_count": 11
        }
      ]
    }
  ]
}